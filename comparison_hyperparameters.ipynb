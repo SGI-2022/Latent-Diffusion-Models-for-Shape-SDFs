{
 "cells": [
  {
   "cell_type": "markdown",
   "id": "72db4b00-ddf2-47e0-a310-d37c9546dae3",
   "metadata": {},
   "source": [
    "| ID      | epoch | MMD | COV | 1NNA |lr|batch_size|timesteps|\n",
    "| ----------- | ----------- |----------- |----------- |----------- |----------- |----------- |----------- |\n",
    "| 11062022_220507      |  2500 |  **0.0113**    | **0.48** | **0.57** | 1e-5 | 10| 30000 |\n",
    "| 11062022_220527     |  2500 |   0.0124   | 0.44 | 0.615 |1e-5 |24 | 30000|\n",
    "| 11062022_220547      |  2500 |  0.0130     | 0.37 | 0.71 |1e-4 |10 | 30000|\n",
    "| 11062022_220611      |  2500 |  0.0127     | 0.39 | 0.66 |1e-4 |24 |30000 |\n",
    "| 11062022_221055      |  2500 |  0.0138     | 0.3 | 0.735 |1e-6 |10 |30000 |\n",
    "| 11062022_222047     |  2500 |   0.0309    | 0.09 | 0.935 |1e-5 |24 |10000 |\n",
    "| ----------- | ----------- |----------- |----------- |----------- |----------- |----------- |----------- |\n",
    "| 11062022_220527     |  6000 |   0.0124  | 0.46 | 0.57 |1e-5 |24 | 30000|\n",
    "| 11062022_220611      |  6000 |  0.0122   | 0.42 | 0.635 |1e-4 |24 |30000 |\n",
    "| 11062022_222047     |  6000 |   0.0315    | 0.08 |0.935 |1e-5 |24 |10000 |\n"
   ]
  },
  {
   "cell_type": "code",
   "execution_count": 1,
   "id": "a9e86a49-5428-4bfd-8902-c6bb03873490",
   "metadata": {},
   "outputs": [],
   "source": [
    "# planes (100 shapes)"
   ]
  },
  {
   "cell_type": "markdown",
   "id": "b27c872b-5e3e-4b0a-861d-d907f888459c",
   "metadata": {},
   "source": [
    "| ID      | epoch | MMD | COV | 1NNA |lr|batch_size|timesteps|\n",
    "| ----------- | ----------- |----------- |----------- |----------- |----------- |----------- |----------- |\n",
    "| 11082022_142608    | 9000 | 0.0055 | 0.45 | 0.72 | 1e-4 |10 | 30000|\n"
   ]
  },
  {
   "cell_type": "code",
   "execution_count": null,
   "id": "b11425eb-5e89-4cb8-9232-c3659bc420e0",
   "metadata": {},
   "outputs": [],
   "source": []
  }
 ],
 "metadata": {
  "kernelspec": {
   "display_name": "Python 3 (ipykernel)",
   "language": "python",
   "name": "python3"
  },
  "language_info": {
   "codemirror_mode": {
    "name": "ipython",
    "version": 3
   },
   "file_extension": ".py",
   "mimetype": "text/x-python",
   "name": "python",
   "nbconvert_exporter": "python",
   "pygments_lexer": "ipython3",
   "version": "3.9.12"
  }
 },
 "nbformat": 4,
 "nbformat_minor": 5
}
