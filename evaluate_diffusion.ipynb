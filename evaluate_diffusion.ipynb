{
 "cells": [
  {
   "cell_type": "code",
   "execution_count": 1,
   "id": "0c3a1b24-d367-454d-9858-7df2415bd4dd",
   "metadata": {},
   "outputs": [],
   "source": [
    "import numpy as np\n",
    "import torch\n",
    "import torch.nn as nn\n",
    "import matplotlib.pyplot as plt\n",
    "import trimesh\n",
    "from skimage import measure\n",
    "import meshplot as mp\n",
    "from torch.utils.data import DataLoader, Dataset\n",
    "import os\n",
    "import time\n",
    "from datetime import timedelta, datetime\n",
    "import random\n",
    "import math"
   ]
  },
  {
   "cell_type": "markdown",
   "id": "63c1e658-a233-45e8-ba15-1a103711f756",
   "metadata": {},
   "source": [
    "### Load decoder and shapecode"
   ]
  },
  {
   "cell_type": "code",
   "execution_count": 3,
   "id": "f14b3049-ff4b-42ac-be68-7ad81b1b6e08",
   "metadata": {},
   "outputs": [],
   "source": [
    "def process_decoder_log(datetime):\n",
    "    with open(os.path.join('./models/', datetime, f'autodecoder_{datetime}.log')) as f:\n",
    "        f = f.readlines()\n",
    "\n",
    "    for line in f:\n",
    "        if \"load_all_shapes\" in line:\n",
    "            load_all_shapes = line.split(' = ')[1].split(',')[0].strip()\n",
    "        if \"n_shapes\" in line:\n",
    "            n_shapes = line.split(' = ')[2].split(',')[0].strip()\n",
    "        if load_all_shapes == 'True':\n",
    "            n_shapes = 6778\n",
    "        if \"dropout\" in line:\n",
    "            dropout = line.split('=')[3].split(',')[0].strip()\n",
    "        if \"weight_norm\" in line:\n",
    "            weight_norm = line.split('=')[5].split(',')[0].strip()\n",
    "        if \"use_tanh\" in line:\n",
    "            use_tanh = line.split('=')[6].strip()\n",
    "        if \"n_points_to_load\" in line:\n",
    "            n_points_to_load = line.split(' = ')[2].split(',')[0].strip()\n",
    "        if \"loss\" in line and 'Validation' not in line:\n",
    "            epoch_trained = line.split('-')[2].split('loss')[0].strip()\n",
    "    \n",
    "    return int(n_shapes), dropout==\"True\", weight_norm==\"True\", use_tanh==\"use_tanh\", int(epoch_trained)\n",
    "\n",
    "def get_decoder(datetime, decoder_epoch=None):\n",
    "    n_shapes, dropout, weight_norm, use_tanh, epoch_trained = process_decoder_log(datetime)\n",
    "    \n",
    "    if decoder_epoch is None: \n",
    "        decoder_epoch = math.floor(epoch_trained/10) * 10 # use the max trained epoch if not specified\n",
    "\n",
    "    from train_decoder import MLP\n",
    "    decoder = MLP(n_shapes, 256, 512, dropout, 0.2, weight_norm, use_tanh)\n",
    "    decoder.load_state_dict(torch.load(f'./models/{datetime}/autodecoder_{datetime}_{decoder_epoch}'))\n",
    "\n",
    "    return decoder, decoder_epoch\n",
    "    \n",
    "def get_shapecode(datetime, shapecode_epoch=None, shape_indices=None, n_shapes=10, random_or_not=False):\n",
    "    max_n_shapes, dropout, weight_norm, use_tanh, epoch_trained = process_decoder_log(datetime)\n",
    "    \n",
    "    if shapecode_epoch is None: \n",
    "        shapecode_epoch = math.floor(epoch_trained/10) * 10 # use the max trained epoch if not specified\n",
    "\n",
    "    shapecode = torch.nn.Embedding(max_n_shapes, 256)\n",
    "    shapecode.load_state_dict(torch.load(f'./models/{datetime}/shapecode_{datetime}_{shapecode_epoch}'))\n",
    "    shapecode=shapecode.weight.data.detach()\n",
    "    # print(shapecode.shape)\n",
    "    \n",
    "    if shape_indices is None:\n",
    "        if random_or_not:\n",
    "            random.seed()\n",
    "        else:\n",
    "            random.seed(0)\n",
    "        shape_indices = random.sample(range(max_n_shapes), n_shapes) # randomly sample n_shapes points out of max_n_shapes\n",
    "    \n",
    "    shapecode = shapecode[torch.tensor(shape_indices)]        \n",
    "    \n",
    "    return shapecode, shapecode_epoch, shape_indices\n"
   ]
  },
  {
   "cell_type": "markdown",
   "id": "bf42e45b-a617-4bf3-99fd-f681b64ba5ea",
   "metadata": {},
   "source": [
    "### Diffusion - Helper Functions"
   ]
  },
  {
   "cell_type": "code",
   "execution_count": 17,
   "id": "6bf71f5e-f078-4b84-a7bb-b1138d3d3f93",
   "metadata": {
    "tags": []
   },
   "outputs": [
    {
     "name": "stdout",
     "output_type": "stream",
     "text": [
      "tensor([1.0000, 1.0000, 1.0000,  ..., 0.0000, 0.0000, 0.0000])\n"
     ]
    }
   ],
   "source": [
    "def make_beta_schedule(schedule='linear', n_timesteps=1000, start=1e-5, end=1e-2):\n",
    "    if schedule == 'linear':\n",
    "        betas = torch.linspace(start, end, n_timesteps)\n",
    "    elif schedule == \"quad\":\n",
    "        betas = torch.linspace(start ** 0.5, end ** 0.5, n_timesteps) ** 2\n",
    "    elif schedule == \"sigmoid\":\n",
    "        betas = torch.linspace(-6, 6, n_timesteps)\n",
    "        betas = torch.sigmoid(betas) * (end - start) + start\n",
    "    return betas\n",
    "\n",
    "############ Gloabl variables ############\n",
    "n_steps = 30000\n",
    "betas = make_beta_schedule(schedule='linear', n_timesteps=n_steps, start=1e-5, end=1e-2)\n",
    "alphas = 1 - betas\n",
    "alphas_prod = torch.cumprod(alphas, 0)\n",
    "alphas_prod_p = torch.cat([torch.tensor([1]).float(), alphas_prod[:-1]], 0)\n",
    "alphas_bar_sqrt = torch.sqrt(alphas_prod)\n",
    "print(alphas_bar_sqrt)\n",
    "one_minus_alphas_bar_log = torch.log(1 - alphas_prod)\n",
    "one_minus_alphas_bar_sqrt = torch.sqrt(1 - alphas_prod)\n"
   ]
  },
  {
   "cell_type": "code",
   "execution_count": 18,
   "id": "a0909d03-c178-4d8e-9ebd-4580a5762623",
   "metadata": {},
   "outputs": [],
   "source": [
    "def extract(input, t, x):\n",
    "    shape = x.shape\n",
    "    out = torch.gather(input, 0, t.to(input.device))\n",
    "    reshape = [t.shape[0]] + [1] * (len(shape) - 1)\n",
    "    return out.reshape(*reshape)"
   ]
  },
  {
   "cell_type": "markdown",
   "id": "6aae4643-b821-492e-b5ec-1c8892e1b16d",
   "metadata": {},
   "source": [
    "### Diffusion "
   ]
  },
  {
   "cell_type": "code",
   "execution_count": 19,
   "id": "b547a713-6657-4093-93ef-29e273fa018e",
   "metadata": {},
   "outputs": [],
   "source": [
    "def q_sample(x_0, t, noise=None):\n",
    "    if noise is None:\n",
    "        noise = torch.randn_like(x_0)\n",
    "    alphas_t = extract(alphas_bar_sqrt, t, x_0)\n",
    "    alphas_1_m_t = extract(one_minus_alphas_bar_sqrt, t, x_0)\n",
    "    return (alphas_t * x_0 + alphas_1_m_t * noise)\n",
    "\n",
    "def p_sample(model, x, t):\n",
    "    t = torch.tensor([t])\n",
    "    # Factor to the model output\n",
    "    eps_factor = ((1 - extract(alphas, t, x)) / extract(one_minus_alphas_bar_sqrt, t, x))\n",
    "    # Model output\n",
    "    eps_theta = model(x, t)\n",
    "    # Final values\n",
    "    mean = (1 / extract(alphas, t, x).sqrt()) * (x - (eps_factor * eps_theta))\n",
    "    # Generate z\n",
    "    z = torch.randn_like(x)\n",
    "    # Fixed sigma\n",
    "    sigma_t = extract(betas, t, x).sqrt()\n",
    "    sample = mean + sigma_t * z\n",
    "    return (sample)\n"
   ]
  },
  {
   "cell_type": "markdown",
   "id": "ec27e67f-1760-4deb-9bef-5fee412ad144",
   "metadata": {},
   "source": [
    "### Plotting Helper Functions"
   ]
  },
  {
   "cell_type": "code",
   "execution_count": 92,
   "id": "f105d505-0804-435d-9494-7a21120d9f4c",
   "metadata": {},
   "outputs": [],
   "source": [
    "x = np.linspace(-1, 1, 100, dtype=np.float32)\n",
    "y = np.linspace(-1, 1, 100, dtype=np.float32)\n",
    "z = np.linspace(-1, 1, 100, dtype=np.float32)\n",
    "P = np.vstack(np.meshgrid(x,y,z)).reshape(3,-1).T  # format: [[x1, y1, z1], [x1, y1, z2], [] ...]\n",
    "P = torch.from_numpy(P)\n",
    "P = torch.chunk(P, 100)"
   ]
  },
  {
   "cell_type": "code",
   "execution_count": 93,
   "id": "7642fc0f-bf32-413a-b5ca-c975f985a7bd",
   "metadata": {},
   "outputs": [],
   "source": [
    "def reconstruct_shapes(decoder, shapecode):\n",
    "    sdfs = []\n",
    "    for points in P:\n",
    "        points = points.view(-1, 3)\n",
    "        # sdfs.append(decoder(torch.cat((points, (std*shapecode+mean).repeat(points.shape[0], 1)), dim=1)).detach().numpy())\n",
    "        sdfs.append(decoder(torch.cat((points, (shapecode).repeat(points.shape[0], 1)), dim=1)).detach().numpy())\n",
    "    sdfs = np.concatenate(sdfs, axis=0)\n",
    "    sdfs = np.resize(sdfs, (len(x), len(y), len(z))) \n",
    "    verts, faces, normals, values = measure.marching_cubes(sdfs, 0)\n",
    "    return verts, faces"
   ]
  },
  {
   "cell_type": "markdown",
   "id": "85d88d50-5ad5-44a9-8630-10f3d23f7a9e",
   "metadata": {},
   "source": [
    "### Compare denoised sdfs & original decoder sdfs"
   ]
  },
  {
   "cell_type": "markdown",
   "id": "57ec46d2-8ff2-4904-90c8-773decfb6c69",
   "metadata": {},
   "source": [
    "#### 0. Run denoising OR load saved denoised shape "
   ]
  },
  {
   "cell_type": "code",
   "execution_count": 26,
   "id": "2e6d1522-2e1d-4505-bb02-c4cf130b9bcd",
   "metadata": {
    "tags": []
   },
   "outputs": [],
   "source": [
    "# TODO: gracefully clean up dependencies including q_sample(), p_sample(), get_decoder(), get_shapecode()\n",
    "def run_denoising(diffusion_model_dt, \n",
    "                  diffusion_model_idx, \n",
    "                  ref_shape_idx=94, # shape index to add noise and denoise (caution:  note that shape_idx != shape_indices_from_decoder[shape_idx])\n",
    "                  timestep = (30000-1), # pick timestep to add noise\n",
    "                  print_original=False, \n",
    "                  print_noised=False, \n",
    "                  print_denoised=True):\n",
    "\n",
    "    # load diffusion model\n",
    "    model_filename = f'./diffusion logs & models/{diffusion_model_dt}/conditional model_{diffusion_model_dt}_{diffusion_model_idx}'\n",
    "    from train_diffusion import ConditionalModel\n",
    "    model = ConditionalModel(30000)\n",
    "    model.load_state_dict(torch.load(model_filename))\n",
    "    model.eval()\n",
    "\n",
    "    \n",
    "    # load diffusion log and the number of shpaes used for diffusion (n_shapes) and the the decoder model used (decoder_model)\n",
    "    log_filename = f'./diffusion logs & models/{diffusion_model_dt}/{diffusion_model_dt}.log'\n",
    "    with open(log_filename) as f:\n",
    "        f = f.readlines()\n",
    "    for line in f: \n",
    "        if \"# of shapes used for diffusion\" in line :\n",
    "            n_shapes = int(line.split('=')[1].strip())\n",
    "        if \"Decoder model used\" in line :\n",
    "            decoder_model = line.split('=')[1].strip()\n",
    "\n",
    "            \n",
    "    # load the decoder and shapecodes\n",
    "    decoder, _ = get_decoder(decoder_model) # speicfy decoder_epoch if needed \n",
    "    shapecode, _, shape_indices_from_decoder = get_shapecode(decoder_model, n_shapes=n_shapes) # specify shapecode_epoch, shape_indices, n_shapes, random_or_not if needed\n",
    "    # TODO: assert that shape_indices from the diffusion log == shape_indices_from_decoder\n",
    "\n",
    "    std = np.std(np.asarray(shapecode))\n",
    "    mean = np.mean(np.asarray(shapecode))\n",
    "    shapecode = (shapecode-mean)/std\n",
    "\n",
    "    \n",
    "    # prepare points to sample when reconstructing shapes using the decoder\n",
    "    x = np.linspace(-1, 1, 100, dtype=np.float32)\n",
    "    y = np.linspace(-1, 1, 100, dtype=np.float32)\n",
    "    z = np.linspace(-1, 1, 100, dtype=np.float32)\n",
    "    P = np.vstack(np.meshgrid(x,y,z)).reshape(3,-1).T  # format: [[x1, y1, z1], [x1, y1, z2], [] ...]\n",
    "    P = torch.from_numpy(P)\n",
    "    P = torch.chunk(P, 100)\n",
    "    \n",
    "    \n",
    "    # retrieve original shapecode corresponding to the ref_shape_idx\n",
    "    original_code=std*shapecode[ref_shape_idx]+mean\n",
    "    \n",
    "    if print_original: \n",
    "        print('Printing the original shape')\n",
    "        sdfs = []\n",
    "        for points in P:\n",
    "            points = points.view(-1, 3)\n",
    "            sdfs.append(decoder(torch.cat((points,  original_code.repeat(points.shape[0], 1)), dim=1)).detach().numpy())\n",
    "        sdfs = np.concatenate(sdfs, axis=0)\n",
    "        sdfs = np.resize(sdfs, (len(x), len(y), len(z))) \n",
    "        verts, faces, normals, values = measure.marching_cubes(sdfs, 0)\n",
    "        mp.plot(verts, faces)\n",
    "\n",
    "    \n",
    "    # add noise to the original shapecode \n",
    "    noised_code = std*q_sample(shapecode[ref_shape_idx], torch.tensor([timestep]))+mean\n",
    "\n",
    "    if print_noised:\n",
    "        print('Printing the noised shape')\n",
    "        sdfs = []\n",
    "        for points in P:\n",
    "            points = points.view(-1, 3)\n",
    "            sdfs.append(decoder(torch.cat((points,  noised_code.repeat(points.shape[0], 1)), dim=1)).detach().numpy())\n",
    "        sdfs = np.concatenate(sdfs, axis=0)\n",
    "        sdfs = np.resize(sdfs, (len(x), len(y), len(z))) \n",
    "        verts, faces, normals, values = measure.marching_cubes(sdfs, 0)\n",
    "        mp.plot(verts, faces)\n",
    "    \n",
    "    \n",
    "    # denoise the noised code \n",
    "    denoised_code = noised_code\n",
    "    for i in reversed(range(timestep)):\n",
    "        denoised_code = p_sample(model, denoised_code, i)\n",
    "    denoised_code = std*denoised_code+mean\n",
    "\n",
    "    denoised_sdfs = []\n",
    "    for points in P:\n",
    "        points = points.view(-1, 3)\n",
    "        denoised_sdfs.append(decoder(torch.cat((points,  denoised_code.repeat(points.shape[0], 1)), dim=1)).detach().numpy())\n",
    "    denoised_sdfs = np.concatenate(denoised_sdfs, axis=0)\n",
    "    denoised_sdfs = np.resize(denoised_sdfs, (len(x), len(y), len(z))) \n",
    "    denoised_verts, faces, normals, values = measure.marching_cubes(denoised_sdfs, 0)\n",
    "    \n",
    "    if print_denoised: \n",
    "        print('Printing the denoised shape')\n",
    "        mp.plot(denoised_verts, faces)\n",
    "\n",
    "    \n",
    "    # post-process the denoised verts (caution: 'model:09272022_165500_8200...' is saved without this post-processing)\n",
    "    scale = np.array([x[1] - x[0], y[1] - y[0], z[1] - z[0]])\n",
    "    offset = np.array([x[0], y[0], z[0]])\n",
    "    denoised_verts = denoised_verts*scale + offset\n",
    "\n",
    "    \n",
    "    # save the denoise shape \n",
    "    denoising = datetime.now() \n",
    "    denoising = denoising.strftime(\"%m%d%Y_%H%M%S\")\n",
    "\n",
    "    if not os.path.isdir(f'./denoising results/model:{diffusion_model_dt}_{diffusion_model_idx},shape:{ref_shape_idx}'):\n",
    "        os.mkdir(f'./denoising results/model:{diffusion_model_dt}_{diffusion_model_idx},shape:{ref_shape_idx}')\n",
    "        print(f'created directory: ./denoising results/model:{diffusion_model_dt}_{diffusion_model_idx},shape:{ref_shape_idx}')\n",
    "\n",
    "    np.savez(f'./denoising results/model:{diffusion_model_dt}_{diffusion_model_idx},shape:{ref_shape_idx}/{denoising}', denoised_code=denoised_code.detach().numpy(), verts=denoised_verts, faces=faces)\n",
    "    \n",
    "    return denoising"
   ]
  },
  {
   "cell_type": "code",
   "execution_count": 27,
   "id": "af54ae1c-1d42-46be-88e4-1f5ded280d97",
   "metadata": {},
   "outputs": [
    {
     "name": "stdout",
     "output_type": "stream",
     "text": [
      "Printing the original shape\n"
     ]
    },
    {
     "data": {
      "application/vnd.jupyter.widget-view+json": {
       "model_id": "132ef692ce7f44e28b39a8954fa029fa",
       "version_major": 2,
       "version_minor": 0
      },
      "text/plain": [
       "Renderer(camera=PerspectiveCamera(children=(DirectionalLight(color='white', intensity=0.6, position=(49.263183…"
      ]
     },
     "metadata": {},
     "output_type": "display_data"
    },
    {
     "name": "stdout",
     "output_type": "stream",
     "text": [
      "Printing the noised shape\n"
     ]
    },
    {
     "data": {
      "application/vnd.jupyter.widget-view+json": {
       "model_id": "78a734b4730840bea2cc5cbd80a669e6",
       "version_major": 2,
       "version_minor": 0
      },
      "text/plain": [
       "Renderer(camera=PerspectiveCamera(children=(DirectionalLight(color='white', intensity=0.6, position=(49.840095…"
      ]
     },
     "metadata": {},
     "output_type": "display_data"
    },
    {
     "name": "stdout",
     "output_type": "stream",
     "text": [
      "Printing the denoised shape\n"
     ]
    },
    {
     "data": {
      "application/vnd.jupyter.widget-view+json": {
       "model_id": "b29c38119bf74d1997377c1dbac7656a",
       "version_major": 2,
       "version_minor": 0
      },
      "text/plain": [
       "Renderer(camera=PerspectiveCamera(children=(DirectionalLight(color='white', intensity=0.6, position=(49.607093…"
      ]
     },
     "metadata": {},
     "output_type": "display_data"
    },
    {
     "data": {
      "text/plain": [
       "'10062022_212728'"
      ]
     },
     "execution_count": 27,
     "metadata": {},
     "output_type": "execute_result"
    }
   ],
   "source": [
    "run_denoising('10062022_011812', 6100, print_original=True, print_noised=True, print_denoised=True)"
   ]
  },
  {
   "cell_type": "code",
   "execution_count": 95,
   "id": "7f8c4445-1df4-4788-8bd4-29cc809e0e39",
   "metadata": {},
   "outputs": [
    {
     "data": {
      "application/vnd.jupyter.widget-view+json": {
       "model_id": "8a19a7a26be841a399f62a8c4d3e2a81",
       "version_major": 2,
       "version_minor": 0
      },
      "text/plain": [
       "Renderer(camera=PerspectiveCamera(children=(DirectionalLight(color='white', intensity=0.6, position=(49.506714…"
      ]
     },
     "metadata": {},
     "output_type": "display_data"
    }
   ],
   "source": [
    "# loading the saved denoised shape\n",
    "data  = np.load('./denoising results/model:09272022_165500_8200,shape:94/09302022_082805.npz')  # change the address\n",
    "denoised_verts = data['verts']\n",
    "denoised_faces = data['faces']\n",
    "mp.plot(denoised_verts, denoised_faces)\n",
    "denoised_code = data['denoised_code'] # this is the already denormalized code (ie after oeprating std*denoised_code+mean)"
   ]
  },
  {
   "cell_type": "markdown",
   "id": "c86b3d16-9f6e-448d-b5db-6833fe639e40",
   "metadata": {},
   "source": [
    "#### 1. cosine similarity (latent vector)"
   ]
  },
  {
   "cell_type": "code",
   "execution_count": 96,
   "id": "fcc677f2-40a1-4253-b176-fd9869bd4390",
   "metadata": {},
   "outputs": [],
   "source": [
    "def compute_cosine_similarity(denoising_dt='09302022_082805'):\n",
    "    # retrieve denoised code to be compared with the original shape codes\n",
    "    diffusion_model_idx = 8200\n",
    "    ref_shape_idx = 94\n",
    "    diffusion_model_dt = '09272022_165500'\n",
    "    # denoising_dt = '09302022_082805' \n",
    "    data  = np.load(f'./denoising results/model:{diffusion_model_dt}_{diffusion_model_idx},shape:{ref_shape_idx}/{denoising_dt}.npz')\n",
    "    denoised_code = data['denoised_code'] # this is the already denormalized code (ie after oeprating std*denoised_code+mean)\n",
    "    denoised_code = torch.tensor(denoised_code)\n",
    "\n",
    "    # retrieve shape indices used for diffusion\n",
    "    log_filename = f'./diffusion logs & models/{diffusion_model_dt}/{diffusion_model_dt}.log'\n",
    "\n",
    "    with open(log_filename) as f:\n",
    "        f = f.readlines()\n",
    "\n",
    "    for idx, line in enumerate(f):\n",
    "        if \"Decoder model used\" in line :\n",
    "            if idx > 10:\n",
    "                break\n",
    "        if \"Shape indices\" in line:\n",
    "            shape_indices = line.split('=')[1].strip().strip('[').strip(']')\n",
    "\n",
    "    shape_indices = shape_indices.split(', ')\n",
    "    shape_indices = [int(shape_index) for shape_index in shape_indices]\n",
    "\n",
    "    # retrieve original shape codes\n",
    "    decoder_dt = '09152022_190445'\n",
    "    shapecode, _, shape_indices_from_decoder = get_shapecode(decoder_dt, n_shapes=6778) # specify shapecode_epoch, shape_indices, n_shapes, random_or_not if needed\n",
    "    assert shape_indices == shape_indices_from_decoder\n",
    "\n",
    "\n",
    "    # compute cosine similarity between denoised shape code and original shape codes\n",
    "    cos_sim = []\n",
    "    cos = nn.CosineSimilarity(dim=0)\n",
    "    for shape_index in shape_indices:\n",
    "        cos_sim.append((cos((shapecode[shape_index]),torch.squeeze(denoised_code))).detach().numpy())\n",
    "    # format: \n",
    "    # 3155 cos, \n",
    "    # 6209 cos\n",
    "\n",
    "    # saving the computed results\n",
    "    cos_sim = np.array(cos_sim)\n",
    "    np.savez(f'./denoising results/model:{diffusion_model_dt}_{diffusion_model_idx},shape:{ref_shape_idx}/{denoising_dt}_cos_sim', cos_sim=cos_sim)\n",
    "    \n",
    "    return cos_sim"
   ]
  },
  {
   "cell_type": "code",
   "execution_count": 97,
   "id": "4e8f58d1-fbeb-48b3-a9ed-f8b56297c610",
   "metadata": {},
   "outputs": [
    {
     "name": "stdout",
     "output_type": "stream",
     "text": [
      "[0.34347343 0.11811234 0.35731378 ... 0.16697209 0.24136283 0.35786706]\n",
      "4173 0.63578224\n",
      "6617 0.63213325\n",
      "5380 0.62537885\n",
      "5506 0.62325644\n",
      "2382 0.61048734\n",
      "1124 0.60014397\n",
      "5009 0.59657407\n",
      "687 0.5954612\n",
      "3327 0.5945884\n",
      "1442 0.59307635\n"
     ]
    }
   ],
   "source": [
    "print(cos_sim)\n",
    "for idx in (-cos_sim).argsort()[:10]:\n",
    "    print(shape_indices[idx], cos_sim[idx])"
   ]
  },
  {
   "cell_type": "code",
   "execution_count": 99,
   "id": "42f4c963-c8b3-4111-9fa8-906687b5498b",
   "metadata": {},
   "outputs": [
    {
     "ename": "ValueError",
     "evalue": "Surface level must be within volume data range.",
     "output_type": "error",
     "traceback": [
      "\u001b[0;31m---------------------------------------------------------------------------\u001b[0m",
      "\u001b[0;31mValueError\u001b[0m                                Traceback (most recent call last)",
      "\u001b[0;32m/tmp/ipykernel_18328/3429155448.py\u001b[0m in \u001b[0;36m<module>\u001b[0;34m\u001b[0m\n\u001b[1;32m      2\u001b[0m \u001b[0;34m\u001b[0m\u001b[0m\n\u001b[1;32m      3\u001b[0m \u001b[0;32mfor\u001b[0m \u001b[0midx\u001b[0m \u001b[0;32min\u001b[0m \u001b[0;34m(\u001b[0m\u001b[0;34m-\u001b[0m\u001b[0mcos_sim\u001b[0m\u001b[0;34m)\u001b[0m\u001b[0;34m.\u001b[0m\u001b[0margsort\u001b[0m\u001b[0;34m(\u001b[0m\u001b[0;34m)\u001b[0m\u001b[0;34m[\u001b[0m\u001b[0;36m1\u001b[0m\u001b[0;34m:\u001b[0m\u001b[0;36m10\u001b[0m\u001b[0;34m]\u001b[0m\u001b[0;34m:\u001b[0m\u001b[0;34m\u001b[0m\u001b[0;34m\u001b[0m\u001b[0m\n\u001b[0;32m----> 4\u001b[0;31m     \u001b[0mverts\u001b[0m\u001b[0;34m,\u001b[0m \u001b[0mfaces\u001b[0m \u001b[0;34m=\u001b[0m \u001b[0mreconstruct_shapes\u001b[0m\u001b[0;34m(\u001b[0m\u001b[0mdecoder\u001b[0m\u001b[0;34m,\u001b[0m \u001b[0mshapecode\u001b[0m\u001b[0;34m[\u001b[0m\u001b[0mshape_indices\u001b[0m\u001b[0;34m[\u001b[0m\u001b[0midx\u001b[0m\u001b[0;34m]\u001b[0m\u001b[0;34m]\u001b[0m\u001b[0;34m)\u001b[0m\u001b[0;34m\u001b[0m\u001b[0;34m\u001b[0m\u001b[0m\n\u001b[0m\u001b[1;32m      5\u001b[0m     \u001b[0mmp\u001b[0m\u001b[0;34m.\u001b[0m\u001b[0mplot\u001b[0m\u001b[0;34m(\u001b[0m\u001b[0mverts\u001b[0m\u001b[0;34m,\u001b[0m \u001b[0mfaces\u001b[0m\u001b[0;34m)\u001b[0m\u001b[0;34m\u001b[0m\u001b[0;34m\u001b[0m\u001b[0m\n",
      "\u001b[0;32m/tmp/ipykernel_18328/1964675994.py\u001b[0m in \u001b[0;36mreconstruct_shapes\u001b[0;34m(decoder, shapecode)\u001b[0m\n\u001b[1;32m      7\u001b[0m     \u001b[0msdfs\u001b[0m \u001b[0;34m=\u001b[0m \u001b[0mnp\u001b[0m\u001b[0;34m.\u001b[0m\u001b[0mconcatenate\u001b[0m\u001b[0;34m(\u001b[0m\u001b[0msdfs\u001b[0m\u001b[0;34m,\u001b[0m \u001b[0maxis\u001b[0m\u001b[0;34m=\u001b[0m\u001b[0;36m0\u001b[0m\u001b[0;34m)\u001b[0m\u001b[0;34m\u001b[0m\u001b[0;34m\u001b[0m\u001b[0m\n\u001b[1;32m      8\u001b[0m     \u001b[0msdfs\u001b[0m \u001b[0;34m=\u001b[0m \u001b[0mnp\u001b[0m\u001b[0;34m.\u001b[0m\u001b[0mresize\u001b[0m\u001b[0;34m(\u001b[0m\u001b[0msdfs\u001b[0m\u001b[0;34m,\u001b[0m \u001b[0;34m(\u001b[0m\u001b[0mlen\u001b[0m\u001b[0;34m(\u001b[0m\u001b[0mx\u001b[0m\u001b[0;34m)\u001b[0m\u001b[0;34m,\u001b[0m \u001b[0mlen\u001b[0m\u001b[0;34m(\u001b[0m\u001b[0my\u001b[0m\u001b[0;34m)\u001b[0m\u001b[0;34m,\u001b[0m \u001b[0mlen\u001b[0m\u001b[0;34m(\u001b[0m\u001b[0mz\u001b[0m\u001b[0;34m)\u001b[0m\u001b[0;34m)\u001b[0m\u001b[0;34m)\u001b[0m\u001b[0;34m\u001b[0m\u001b[0;34m\u001b[0m\u001b[0m\n\u001b[0;32m----> 9\u001b[0;31m     \u001b[0mverts\u001b[0m\u001b[0;34m,\u001b[0m \u001b[0mfaces\u001b[0m\u001b[0;34m,\u001b[0m \u001b[0mnormals\u001b[0m\u001b[0;34m,\u001b[0m \u001b[0mvalues\u001b[0m \u001b[0;34m=\u001b[0m \u001b[0mmeasure\u001b[0m\u001b[0;34m.\u001b[0m\u001b[0mmarching_cubes\u001b[0m\u001b[0;34m(\u001b[0m\u001b[0msdfs\u001b[0m\u001b[0;34m,\u001b[0m \u001b[0;36m0\u001b[0m\u001b[0;34m)\u001b[0m\u001b[0;34m\u001b[0m\u001b[0;34m\u001b[0m\u001b[0m\n\u001b[0m\u001b[1;32m     10\u001b[0m     \u001b[0;32mreturn\u001b[0m \u001b[0mverts\u001b[0m\u001b[0;34m,\u001b[0m \u001b[0mfaces\u001b[0m\u001b[0;34m\u001b[0m\u001b[0;34m\u001b[0m\u001b[0m\n",
      "\u001b[0;32m~/miniconda3/lib/python3.9/site-packages/skimage/measure/_marching_cubes_lewiner.py\u001b[0m in \u001b[0;36mmarching_cubes\u001b[0;34m(volume, level, spacing, gradient_direction, step_size, allow_degenerate, method, mask)\u001b[0m\n\u001b[1;32m    131\u001b[0m \u001b[0;34m\u001b[0m\u001b[0m\n\u001b[1;32m    132\u001b[0m     \u001b[0;32mif\u001b[0m \u001b[0mmethod\u001b[0m \u001b[0;34m==\u001b[0m \u001b[0;34m'lewiner'\u001b[0m\u001b[0;34m:\u001b[0m\u001b[0;34m\u001b[0m\u001b[0;34m\u001b[0m\u001b[0m\n\u001b[0;32m--> 133\u001b[0;31m         return _marching_cubes_lewiner(volume, level, spacing,\n\u001b[0m\u001b[1;32m    134\u001b[0m                                        \u001b[0mgradient_direction\u001b[0m\u001b[0;34m,\u001b[0m \u001b[0mstep_size\u001b[0m\u001b[0;34m,\u001b[0m\u001b[0;34m\u001b[0m\u001b[0;34m\u001b[0m\u001b[0m\n\u001b[1;32m    135\u001b[0m                                        \u001b[0mallow_degenerate\u001b[0m\u001b[0;34m,\u001b[0m \u001b[0muse_classic\u001b[0m\u001b[0;34m=\u001b[0m\u001b[0;32mFalse\u001b[0m\u001b[0;34m,\u001b[0m\u001b[0;34m\u001b[0m\u001b[0;34m\u001b[0m\u001b[0m\n",
      "\u001b[0;32m~/miniconda3/lib/python3.9/site-packages/skimage/measure/_marching_cubes_lewiner.py\u001b[0m in \u001b[0;36m_marching_cubes_lewiner\u001b[0;34m(volume, level, spacing, gradient_direction, step_size, allow_degenerate, use_classic, mask)\u001b[0m\n\u001b[1;32m    175\u001b[0m         \u001b[0mlevel\u001b[0m \u001b[0;34m=\u001b[0m \u001b[0mfloat\u001b[0m\u001b[0;34m(\u001b[0m\u001b[0mlevel\u001b[0m\u001b[0;34m)\u001b[0m\u001b[0;34m\u001b[0m\u001b[0;34m\u001b[0m\u001b[0m\n\u001b[1;32m    176\u001b[0m         \u001b[0;32mif\u001b[0m \u001b[0mlevel\u001b[0m \u001b[0;34m<\u001b[0m \u001b[0mvolume\u001b[0m\u001b[0;34m.\u001b[0m\u001b[0mmin\u001b[0m\u001b[0;34m(\u001b[0m\u001b[0;34m)\u001b[0m \u001b[0;32mor\u001b[0m \u001b[0mlevel\u001b[0m \u001b[0;34m>\u001b[0m \u001b[0mvolume\u001b[0m\u001b[0;34m.\u001b[0m\u001b[0mmax\u001b[0m\u001b[0;34m(\u001b[0m\u001b[0;34m)\u001b[0m\u001b[0;34m:\u001b[0m\u001b[0;34m\u001b[0m\u001b[0;34m\u001b[0m\u001b[0m\n\u001b[0;32m--> 177\u001b[0;31m             \u001b[0;32mraise\u001b[0m \u001b[0mValueError\u001b[0m\u001b[0;34m(\u001b[0m\u001b[0;34m\"Surface level must be within volume data range.\"\u001b[0m\u001b[0;34m)\u001b[0m\u001b[0;34m\u001b[0m\u001b[0;34m\u001b[0m\u001b[0m\n\u001b[0m\u001b[1;32m    178\u001b[0m     \u001b[0;31m# spacing\u001b[0m\u001b[0;34m\u001b[0m\u001b[0;34m\u001b[0m\u001b[0m\n\u001b[1;32m    179\u001b[0m     \u001b[0;32mif\u001b[0m \u001b[0mlen\u001b[0m\u001b[0;34m(\u001b[0m\u001b[0mspacing\u001b[0m\u001b[0;34m)\u001b[0m \u001b[0;34m!=\u001b[0m \u001b[0;36m3\u001b[0m\u001b[0;34m:\u001b[0m\u001b[0;34m\u001b[0m\u001b[0;34m\u001b[0m\u001b[0m\n",
      "\u001b[0;31mValueError\u001b[0m: Surface level must be within volume data range."
     ]
    }
   ],
   "source": [
    "decoder, _ = get_decoder(decoder_dt) \n",
    "\n",
    "for idx in (-cos_sim).argsort()[:10]:\n",
    "    verts, faces = reconstruct_shapes(decoder, shapecode[shape_indices[idx]])\n",
    "    mp.plot(verts, faces)"
   ]
  },
  {
   "cell_type": "markdown",
   "id": "bc9be835-63cd-45d6-8b7f-82f0d2ccf6f8",
   "metadata": {},
   "source": [
    "#### 2. Euclidean distance (latent vector)"
   ]
  },
  {
   "cell_type": "code",
   "execution_count": 82,
   "id": "8e42c10f-01ad-4b5a-9ca5-f0f60fa562ee",
   "metadata": {},
   "outputs": [],
   "source": [
    "# retrieve denoised code to be compared with the original shape codes\n",
    "diffusion_model_idx = 8200\n",
    "ref_shape_idx = 94\n",
    "diffusion_model_dt = '09272022_165500'\n",
    "denoising_dt = '09302022_082805' # saving_dt\n",
    "data  = np.load(f'./denoising results/model:{diffusion_model_dt}_{diffusion_model_idx},shape:{ref_shape_idx}/{denoising_dt}.npz')\n",
    "denoised_code = data['denoised_code'] # this is the already denormalized code (ie after oeprating std*denoised_code+mean)\n",
    "denoised_code = torch.tensor(denoised_code)\n",
    "\n",
    "# retrieve shape indices used for diffusion\n",
    "log_filename = f'./diffusion logs & models/{diffusion_model_dt}/{diffusion_model_dt}.log'\n",
    "\n",
    "with open(log_filename) as f:\n",
    "    f = f.readlines()\n",
    "\n",
    "for idx, line in enumerate(f):\n",
    "    if \"Decoder model used\" in line :\n",
    "        if idx > 10:\n",
    "            break\n",
    "    if \"Shape indices\" in line:\n",
    "        shape_indices = line.split('=')[1].strip().strip('[').strip(']')\n",
    "\n",
    "shape_indices = shape_indices.split(', ')\n",
    "shape_indices = [int(shape_index) for shape_index in shape_indices]\n",
    "\n",
    "# retrieve original shape codes\n",
    "decoder_dt = '09152022_190445'\n",
    "shapecode, _, shape_indices_from_decoder = get_shapecode(decoder_dt, n_shapes=6778) # specify shapecode_epoch, shape_indices, n_shapes, random_or_not if needed\n",
    "assert shape_indices == shape_indices_from_decoder\n",
    "\n",
    "std = np.std(np.asarray(shapecode))\n",
    "mean = np.mean(np.asarray(shapecode))\n",
    "shapecode = (shapecode-mean)/std\n",
    "\n",
    "# compute cosine similarity between denoised shape code and original shape codes\n",
    "euc_dist_diff = []\n",
    "cos = nn.CosineSimilarity(dim=0)\n",
    "for shape_index in shape_indices:\n",
    "    euc_dist_diff.append(torch.linalg.norm((std*shapecode[int(shape_index)] + mean)-torch.squeeze(denoised_code)).detach().numpy())\n",
    "    \n",
    "# format: \n",
    "# 3155 cos, \n",
    "# 6209 cos\n",
    "    \n",
    "# saving the computed results\n",
    "euc_dist_diff = np.array(euc_dist_diff)\n",
    "np.savez(f'./denoising results/model:{diffusion_model_dt}_{diffusion_model_idx},shape:{ref_shape_idx}/{denoising_dt}_euc_dist_diff', euc_dist_diff=euc_dist_diff)"
   ]
  },
  {
   "cell_type": "code",
   "execution_count": 100,
   "id": "0941ab6e-c1aa-4238-b586-5262ad798737",
   "metadata": {},
   "outputs": [
    {
     "name": "stdout",
     "output_type": "stream",
     "text": [
      "[1.8496909 1.9283289 1.6956576 ... 2.0635808 1.71431   1.6427572]\n",
      "3452 1.302804\n",
      "6725 1.323305\n",
      "5110 1.3270646\n",
      "3704 1.3292283\n",
      "1926 1.3684391\n",
      "4560 1.3839875\n",
      "4334 1.3858078\n",
      "6755 1.3868244\n",
      "6557 1.3869848\n",
      "3342 1.3908254\n"
     ]
    }
   ],
   "source": [
    "euc_dist_diff\n",
    "\n",
    "print(euc_dist_diff)\n",
    "for idx in euc_dist_diff.argsort()[:10]:\n",
    "    print(shape_indices[idx], euc_dist_diff[idx])"
   ]
  },
  {
   "cell_type": "code",
   "execution_count": 101,
   "id": "1f4b95ea-1216-4f94-9929-566f20fcf1b7",
   "metadata": {},
   "outputs": [
    {
     "ename": "ValueError",
     "evalue": "Surface level must be within volume data range.",
     "output_type": "error",
     "traceback": [
      "\u001b[0;31m---------------------------------------------------------------------------\u001b[0m",
      "\u001b[0;31mValueError\u001b[0m                                Traceback (most recent call last)",
      "\u001b[0;32m/tmp/ipykernel_18328/1441153338.py\u001b[0m in \u001b[0;36m<module>\u001b[0;34m\u001b[0m\n\u001b[1;32m      2\u001b[0m \u001b[0;34m\u001b[0m\u001b[0m\n\u001b[1;32m      3\u001b[0m \u001b[0;32mfor\u001b[0m \u001b[0midx\u001b[0m \u001b[0;32min\u001b[0m \u001b[0meuc_dist_diff\u001b[0m\u001b[0;34m.\u001b[0m\u001b[0margsort\u001b[0m\u001b[0;34m(\u001b[0m\u001b[0;34m)\u001b[0m\u001b[0;34m[\u001b[0m\u001b[0;34m:\u001b[0m\u001b[0;36m10\u001b[0m\u001b[0;34m]\u001b[0m\u001b[0;34m:\u001b[0m\u001b[0;34m\u001b[0m\u001b[0;34m\u001b[0m\u001b[0m\n\u001b[0;32m----> 4\u001b[0;31m     \u001b[0mverts\u001b[0m\u001b[0;34m,\u001b[0m \u001b[0mfaces\u001b[0m \u001b[0;34m=\u001b[0m \u001b[0mreconstruct_shapes\u001b[0m\u001b[0;34m(\u001b[0m\u001b[0mdecoder\u001b[0m\u001b[0;34m,\u001b[0m \u001b[0mshapecode\u001b[0m\u001b[0;34m[\u001b[0m\u001b[0mshape_indices\u001b[0m\u001b[0;34m[\u001b[0m\u001b[0midx\u001b[0m\u001b[0;34m]\u001b[0m\u001b[0;34m]\u001b[0m\u001b[0;34m)\u001b[0m\u001b[0;34m\u001b[0m\u001b[0;34m\u001b[0m\u001b[0m\n\u001b[0m\u001b[1;32m      5\u001b[0m     \u001b[0mmp\u001b[0m\u001b[0;34m.\u001b[0m\u001b[0mplot\u001b[0m\u001b[0;34m(\u001b[0m\u001b[0mverts\u001b[0m\u001b[0;34m,\u001b[0m \u001b[0mfaces\u001b[0m\u001b[0;34m)\u001b[0m\u001b[0;34m\u001b[0m\u001b[0;34m\u001b[0m\u001b[0m\n",
      "\u001b[0;32m/tmp/ipykernel_18328/1964675994.py\u001b[0m in \u001b[0;36mreconstruct_shapes\u001b[0;34m(decoder, shapecode)\u001b[0m\n\u001b[1;32m      7\u001b[0m     \u001b[0msdfs\u001b[0m \u001b[0;34m=\u001b[0m \u001b[0mnp\u001b[0m\u001b[0;34m.\u001b[0m\u001b[0mconcatenate\u001b[0m\u001b[0;34m(\u001b[0m\u001b[0msdfs\u001b[0m\u001b[0;34m,\u001b[0m \u001b[0maxis\u001b[0m\u001b[0;34m=\u001b[0m\u001b[0;36m0\u001b[0m\u001b[0;34m)\u001b[0m\u001b[0;34m\u001b[0m\u001b[0;34m\u001b[0m\u001b[0m\n\u001b[1;32m      8\u001b[0m     \u001b[0msdfs\u001b[0m \u001b[0;34m=\u001b[0m \u001b[0mnp\u001b[0m\u001b[0;34m.\u001b[0m\u001b[0mresize\u001b[0m\u001b[0;34m(\u001b[0m\u001b[0msdfs\u001b[0m\u001b[0;34m,\u001b[0m \u001b[0;34m(\u001b[0m\u001b[0mlen\u001b[0m\u001b[0;34m(\u001b[0m\u001b[0mx\u001b[0m\u001b[0;34m)\u001b[0m\u001b[0;34m,\u001b[0m \u001b[0mlen\u001b[0m\u001b[0;34m(\u001b[0m\u001b[0my\u001b[0m\u001b[0;34m)\u001b[0m\u001b[0;34m,\u001b[0m \u001b[0mlen\u001b[0m\u001b[0;34m(\u001b[0m\u001b[0mz\u001b[0m\u001b[0;34m)\u001b[0m\u001b[0;34m)\u001b[0m\u001b[0;34m)\u001b[0m\u001b[0;34m\u001b[0m\u001b[0;34m\u001b[0m\u001b[0m\n\u001b[0;32m----> 9\u001b[0;31m     \u001b[0mverts\u001b[0m\u001b[0;34m,\u001b[0m \u001b[0mfaces\u001b[0m\u001b[0;34m,\u001b[0m \u001b[0mnormals\u001b[0m\u001b[0;34m,\u001b[0m \u001b[0mvalues\u001b[0m \u001b[0;34m=\u001b[0m \u001b[0mmeasure\u001b[0m\u001b[0;34m.\u001b[0m\u001b[0mmarching_cubes\u001b[0m\u001b[0;34m(\u001b[0m\u001b[0msdfs\u001b[0m\u001b[0;34m,\u001b[0m \u001b[0;36m0\u001b[0m\u001b[0;34m)\u001b[0m\u001b[0;34m\u001b[0m\u001b[0;34m\u001b[0m\u001b[0m\n\u001b[0m\u001b[1;32m     10\u001b[0m     \u001b[0;32mreturn\u001b[0m \u001b[0mverts\u001b[0m\u001b[0;34m,\u001b[0m \u001b[0mfaces\u001b[0m\u001b[0;34m\u001b[0m\u001b[0;34m\u001b[0m\u001b[0m\n",
      "\u001b[0;32m~/miniconda3/lib/python3.9/site-packages/skimage/measure/_marching_cubes_lewiner.py\u001b[0m in \u001b[0;36mmarching_cubes\u001b[0;34m(volume, level, spacing, gradient_direction, step_size, allow_degenerate, method, mask)\u001b[0m\n\u001b[1;32m    131\u001b[0m \u001b[0;34m\u001b[0m\u001b[0m\n\u001b[1;32m    132\u001b[0m     \u001b[0;32mif\u001b[0m \u001b[0mmethod\u001b[0m \u001b[0;34m==\u001b[0m \u001b[0;34m'lewiner'\u001b[0m\u001b[0;34m:\u001b[0m\u001b[0;34m\u001b[0m\u001b[0;34m\u001b[0m\u001b[0m\n\u001b[0;32m--> 133\u001b[0;31m         return _marching_cubes_lewiner(volume, level, spacing,\n\u001b[0m\u001b[1;32m    134\u001b[0m                                        \u001b[0mgradient_direction\u001b[0m\u001b[0;34m,\u001b[0m \u001b[0mstep_size\u001b[0m\u001b[0;34m,\u001b[0m\u001b[0;34m\u001b[0m\u001b[0;34m\u001b[0m\u001b[0m\n\u001b[1;32m    135\u001b[0m                                        \u001b[0mallow_degenerate\u001b[0m\u001b[0;34m,\u001b[0m \u001b[0muse_classic\u001b[0m\u001b[0;34m=\u001b[0m\u001b[0;32mFalse\u001b[0m\u001b[0;34m,\u001b[0m\u001b[0;34m\u001b[0m\u001b[0;34m\u001b[0m\u001b[0m\n",
      "\u001b[0;32m~/miniconda3/lib/python3.9/site-packages/skimage/measure/_marching_cubes_lewiner.py\u001b[0m in \u001b[0;36m_marching_cubes_lewiner\u001b[0;34m(volume, level, spacing, gradient_direction, step_size, allow_degenerate, use_classic, mask)\u001b[0m\n\u001b[1;32m    175\u001b[0m         \u001b[0mlevel\u001b[0m \u001b[0;34m=\u001b[0m \u001b[0mfloat\u001b[0m\u001b[0;34m(\u001b[0m\u001b[0mlevel\u001b[0m\u001b[0;34m)\u001b[0m\u001b[0;34m\u001b[0m\u001b[0;34m\u001b[0m\u001b[0m\n\u001b[1;32m    176\u001b[0m         \u001b[0;32mif\u001b[0m \u001b[0mlevel\u001b[0m \u001b[0;34m<\u001b[0m \u001b[0mvolume\u001b[0m\u001b[0;34m.\u001b[0m\u001b[0mmin\u001b[0m\u001b[0;34m(\u001b[0m\u001b[0;34m)\u001b[0m \u001b[0;32mor\u001b[0m \u001b[0mlevel\u001b[0m \u001b[0;34m>\u001b[0m \u001b[0mvolume\u001b[0m\u001b[0;34m.\u001b[0m\u001b[0mmax\u001b[0m\u001b[0;34m(\u001b[0m\u001b[0;34m)\u001b[0m\u001b[0;34m:\u001b[0m\u001b[0;34m\u001b[0m\u001b[0;34m\u001b[0m\u001b[0m\n\u001b[0;32m--> 177\u001b[0;31m             \u001b[0;32mraise\u001b[0m \u001b[0mValueError\u001b[0m\u001b[0;34m(\u001b[0m\u001b[0;34m\"Surface level must be within volume data range.\"\u001b[0m\u001b[0;34m)\u001b[0m\u001b[0;34m\u001b[0m\u001b[0;34m\u001b[0m\u001b[0m\n\u001b[0m\u001b[1;32m    178\u001b[0m     \u001b[0;31m# spacing\u001b[0m\u001b[0;34m\u001b[0m\u001b[0;34m\u001b[0m\u001b[0m\n\u001b[1;32m    179\u001b[0m     \u001b[0;32mif\u001b[0m \u001b[0mlen\u001b[0m\u001b[0;34m(\u001b[0m\u001b[0mspacing\u001b[0m\u001b[0;34m)\u001b[0m \u001b[0;34m!=\u001b[0m \u001b[0;36m3\u001b[0m\u001b[0;34m:\u001b[0m\u001b[0;34m\u001b[0m\u001b[0;34m\u001b[0m\u001b[0m\n",
      "\u001b[0;31mValueError\u001b[0m: Surface level must be within volume data range."
     ]
    }
   ],
   "source": [
    "decoder, _ = get_decoder(decoder_dt) \n",
    "\n",
    "for idx in euc_dist_diff.argsort()[:10]:\n",
    "    verts, faces = reconstruct_shapes(decoder, shapecode[shape_indices[idx]])\n",
    "    mp.plot(verts, faces)"
   ]
  },
  {
   "cell_type": "markdown",
   "id": "9ca46817-800e-4e38-a436-677628593703",
   "metadata": {},
   "source": [
    "#### 3. chamfer distance & absolute sdfs "
   ]
  },
  {
   "cell_type": "code",
   "execution_count": 102,
   "id": "a26bba49-d8e1-4c9a-9642-54e968329fa7",
   "metadata": {},
   "outputs": [],
   "source": [
    "from scipy.spatial import cKDTree as KDTree\n",
    "\n",
    "def compute_symmetric_chamfer_distance(verts1, verts2):\n",
    "    verts1_kd_tree = KDTree(verts1)\n",
    "    one_distances, one_vertex_ids = verts1_kd_tree.query(verts2)\n",
    "\n",
    "    verts2_kd_tree = KDTree(verts2)\n",
    "    two_distances, two_vertex_ids = verts2_kd_tree.query(verts1)\n",
    "\n",
    "    return np.mean(np.square(one_distances)) + np.mean(np.square(two_distances))"
   ]
  },
  {
   "cell_type": "code",
   "execution_count": 103,
   "id": "a2be251d-7b96-4ba5-9019-8fe6f39d61db",
   "metadata": {},
   "outputs": [
    {
     "name": "stdout",
     "output_type": "stream",
     "text": [
      "3155: 0.03548387802587052\n",
      "6209: 0.02883628414720759\n",
      "3445: 0.0387960786590546\n",
      "331: 0.021309713795765704\n",
      "2121: 0.024491355441123026\n",
      "4188: 0.07527068074778859\n",
      "3980: 0.05195236335998118\n",
      "3317: 0.01787335579616698\n",
      "6420: 0.08188897530087884\n",
      "2484: 0.034361564556328175\n",
      "3904: 0.07061771776579168\n",
      "2933: 0.02556465409677128\n"
     ]
    },
    {
     "ename": "KeyboardInterrupt",
     "evalue": "",
     "output_type": "error",
     "traceback": [
      "\u001b[0;31m---------------------------------------------------------------------------\u001b[0m",
      "\u001b[0;31mKeyboardInterrupt\u001b[0m                         Traceback (most recent call last)",
      "\u001b[0;32m/tmp/ipykernel_18328/2590995944.py\u001b[0m in \u001b[0;36m<module>\u001b[0;34m\u001b[0m\n\u001b[1;32m     42\u001b[0m         \u001b[0;32mfor\u001b[0m \u001b[0mpoints\u001b[0m \u001b[0;32min\u001b[0m \u001b[0mP\u001b[0m\u001b[0;34m:\u001b[0m\u001b[0;34m\u001b[0m\u001b[0;34m\u001b[0m\u001b[0m\n\u001b[1;32m     43\u001b[0m             \u001b[0mpoints\u001b[0m \u001b[0;34m=\u001b[0m \u001b[0mpoints\u001b[0m\u001b[0;34m.\u001b[0m\u001b[0mview\u001b[0m\u001b[0;34m(\u001b[0m\u001b[0;34m-\u001b[0m\u001b[0;36m1\u001b[0m\u001b[0;34m,\u001b[0m \u001b[0;36m3\u001b[0m\u001b[0;34m)\u001b[0m\u001b[0;34m\u001b[0m\u001b[0;34m\u001b[0m\u001b[0m\n\u001b[0;32m---> 44\u001b[0;31m             \u001b[0msdfs\u001b[0m\u001b[0;34m.\u001b[0m\u001b[0mappend\u001b[0m\u001b[0;34m(\u001b[0m\u001b[0mdecoder\u001b[0m\u001b[0;34m(\u001b[0m\u001b[0mtorch\u001b[0m\u001b[0;34m.\u001b[0m\u001b[0mcat\u001b[0m\u001b[0;34m(\u001b[0m\u001b[0;34m(\u001b[0m\u001b[0mpoints\u001b[0m\u001b[0;34m,\u001b[0m  \u001b[0moriginal_code\u001b[0m\u001b[0;34m.\u001b[0m\u001b[0mrepeat\u001b[0m\u001b[0;34m(\u001b[0m\u001b[0mpoints\u001b[0m\u001b[0;34m.\u001b[0m\u001b[0mshape\u001b[0m\u001b[0;34m[\u001b[0m\u001b[0;36m0\u001b[0m\u001b[0;34m]\u001b[0m\u001b[0;34m,\u001b[0m \u001b[0;36m1\u001b[0m\u001b[0;34m)\u001b[0m\u001b[0;34m)\u001b[0m\u001b[0;34m,\u001b[0m \u001b[0mdim\u001b[0m\u001b[0;34m=\u001b[0m\u001b[0;36m1\u001b[0m\u001b[0;34m)\u001b[0m\u001b[0;34m)\u001b[0m\u001b[0;34m.\u001b[0m\u001b[0mdetach\u001b[0m\u001b[0;34m(\u001b[0m\u001b[0;34m)\u001b[0m\u001b[0;34m.\u001b[0m\u001b[0mnumpy\u001b[0m\u001b[0;34m(\u001b[0m\u001b[0;34m)\u001b[0m\u001b[0;34m)\u001b[0m\u001b[0;34m\u001b[0m\u001b[0;34m\u001b[0m\u001b[0m\n\u001b[0m\u001b[1;32m     45\u001b[0m         \u001b[0msdfs\u001b[0m \u001b[0;34m=\u001b[0m \u001b[0mnp\u001b[0m\u001b[0;34m.\u001b[0m\u001b[0mconcatenate\u001b[0m\u001b[0;34m(\u001b[0m\u001b[0msdfs\u001b[0m\u001b[0;34m,\u001b[0m \u001b[0maxis\u001b[0m\u001b[0;34m=\u001b[0m\u001b[0;36m0\u001b[0m\u001b[0;34m)\u001b[0m\u001b[0;34m\u001b[0m\u001b[0;34m\u001b[0m\u001b[0m\n\u001b[1;32m     46\u001b[0m         \u001b[0msdfs\u001b[0m \u001b[0;34m=\u001b[0m \u001b[0mnp\u001b[0m\u001b[0;34m.\u001b[0m\u001b[0mresize\u001b[0m\u001b[0;34m(\u001b[0m\u001b[0msdfs\u001b[0m\u001b[0;34m,\u001b[0m  \u001b[0;34m(\u001b[0m\u001b[0mlen\u001b[0m\u001b[0;34m(\u001b[0m\u001b[0mx\u001b[0m\u001b[0;34m)\u001b[0m\u001b[0;34m,\u001b[0m \u001b[0mlen\u001b[0m\u001b[0;34m(\u001b[0m\u001b[0my\u001b[0m\u001b[0;34m)\u001b[0m\u001b[0;34m,\u001b[0m \u001b[0mlen\u001b[0m\u001b[0;34m(\u001b[0m\u001b[0mz\u001b[0m\u001b[0;34m)\u001b[0m\u001b[0;34m)\u001b[0m\u001b[0;34m)\u001b[0m\u001b[0;34m\u001b[0m\u001b[0;34m\u001b[0m\u001b[0m\n",
      "\u001b[0;32m~/miniconda3/lib/python3.9/site-packages/torch/nn/modules/module.py\u001b[0m in \u001b[0;36m_call_impl\u001b[0;34m(self, *input, **kwargs)\u001b[0m\n\u001b[1;32m   1128\u001b[0m         if not (self._backward_hooks or self._forward_hooks or self._forward_pre_hooks or _global_backward_hooks\n\u001b[1;32m   1129\u001b[0m                 or _global_forward_hooks or _global_forward_pre_hooks):\n\u001b[0;32m-> 1130\u001b[0;31m             \u001b[0;32mreturn\u001b[0m \u001b[0mforward_call\u001b[0m\u001b[0;34m(\u001b[0m\u001b[0;34m*\u001b[0m\u001b[0minput\u001b[0m\u001b[0;34m,\u001b[0m \u001b[0;34m**\u001b[0m\u001b[0mkwargs\u001b[0m\u001b[0;34m)\u001b[0m\u001b[0;34m\u001b[0m\u001b[0;34m\u001b[0m\u001b[0m\n\u001b[0m\u001b[1;32m   1131\u001b[0m         \u001b[0;31m# Do not call functions when jit is used\u001b[0m\u001b[0;34m\u001b[0m\u001b[0;34m\u001b[0m\u001b[0m\n\u001b[1;32m   1132\u001b[0m         \u001b[0mfull_backward_hooks\u001b[0m\u001b[0;34m,\u001b[0m \u001b[0mnon_full_backward_hooks\u001b[0m \u001b[0;34m=\u001b[0m \u001b[0;34m[\u001b[0m\u001b[0;34m]\u001b[0m\u001b[0;34m,\u001b[0m \u001b[0;34m[\u001b[0m\u001b[0;34m]\u001b[0m\u001b[0;34m\u001b[0m\u001b[0;34m\u001b[0m\u001b[0m\n",
      "\u001b[0;32m~/latent_diffusion/latent_diffusion/train_decoder.py\u001b[0m in \u001b[0;36mforward\u001b[0;34m(self, shape_code_with_xyz)\u001b[0m\n\u001b[1;32m    154\u001b[0m             \u001b[0mout\u001b[0m \u001b[0;34m=\u001b[0m \u001b[0mF\u001b[0m\u001b[0;34m.\u001b[0m\u001b[0mdropout\u001b[0m\u001b[0;34m(\u001b[0m\u001b[0mout\u001b[0m\u001b[0;34m,\u001b[0m \u001b[0mp\u001b[0m\u001b[0;34m=\u001b[0m\u001b[0mself\u001b[0m\u001b[0;34m.\u001b[0m\u001b[0mdropout_prob\u001b[0m\u001b[0;34m)\u001b[0m\u001b[0;34m\u001b[0m\u001b[0;34m\u001b[0m\u001b[0m\n\u001b[1;32m    155\u001b[0m \u001b[0;34m\u001b[0m\u001b[0m\n\u001b[0;32m--> 156\u001b[0;31m         \u001b[0mout\u001b[0m \u001b[0;34m=\u001b[0m \u001b[0mself\u001b[0m\u001b[0;34m.\u001b[0m\u001b[0mrelu\u001b[0m\u001b[0;34m(\u001b[0m\u001b[0mself\u001b[0m\u001b[0;34m.\u001b[0m\u001b[0mlinear5\u001b[0m\u001b[0;34m(\u001b[0m\u001b[0mtorch\u001b[0m\u001b[0;34m.\u001b[0m\u001b[0mcat\u001b[0m\u001b[0;34m(\u001b[0m\u001b[0;34m(\u001b[0m\u001b[0mout\u001b[0m\u001b[0;34m,\u001b[0m \u001b[0mshape_code_with_xyz\u001b[0m\u001b[0;34m)\u001b[0m\u001b[0;34m,\u001b[0m \u001b[0mdim\u001b[0m\u001b[0;34m=\u001b[0m\u001b[0;36m1\u001b[0m\u001b[0;34m)\u001b[0m\u001b[0;34m)\u001b[0m\u001b[0;34m)\u001b[0m \u001b[0;31m# skip connection\u001b[0m\u001b[0;34m\u001b[0m\u001b[0;34m\u001b[0m\u001b[0m\n\u001b[0m\u001b[1;32m    157\u001b[0m         \u001b[0;32mif\u001b[0m \u001b[0mself\u001b[0m\u001b[0;34m.\u001b[0m\u001b[0mdropout\u001b[0m\u001b[0;34m:\u001b[0m\u001b[0;34m\u001b[0m\u001b[0;34m\u001b[0m\u001b[0m\n\u001b[1;32m    158\u001b[0m             \u001b[0mout\u001b[0m \u001b[0;34m=\u001b[0m \u001b[0mF\u001b[0m\u001b[0;34m.\u001b[0m\u001b[0mdropout\u001b[0m\u001b[0;34m(\u001b[0m\u001b[0mout\u001b[0m\u001b[0;34m,\u001b[0m \u001b[0mp\u001b[0m\u001b[0;34m=\u001b[0m\u001b[0mself\u001b[0m\u001b[0;34m.\u001b[0m\u001b[0mdropout_prob\u001b[0m\u001b[0;34m)\u001b[0m\u001b[0;34m\u001b[0m\u001b[0;34m\u001b[0m\u001b[0m\n",
      "\u001b[0;32m~/miniconda3/lib/python3.9/site-packages/torch/nn/modules/module.py\u001b[0m in \u001b[0;36m_call_impl\u001b[0;34m(self, *input, **kwargs)\u001b[0m\n\u001b[1;32m   1128\u001b[0m         if not (self._backward_hooks or self._forward_hooks or self._forward_pre_hooks or _global_backward_hooks\n\u001b[1;32m   1129\u001b[0m                 or _global_forward_hooks or _global_forward_pre_hooks):\n\u001b[0;32m-> 1130\u001b[0;31m             \u001b[0;32mreturn\u001b[0m \u001b[0mforward_call\u001b[0m\u001b[0;34m(\u001b[0m\u001b[0;34m*\u001b[0m\u001b[0minput\u001b[0m\u001b[0;34m,\u001b[0m \u001b[0;34m**\u001b[0m\u001b[0mkwargs\u001b[0m\u001b[0;34m)\u001b[0m\u001b[0;34m\u001b[0m\u001b[0;34m\u001b[0m\u001b[0m\n\u001b[0m\u001b[1;32m   1131\u001b[0m         \u001b[0;31m# Do not call functions when jit is used\u001b[0m\u001b[0;34m\u001b[0m\u001b[0;34m\u001b[0m\u001b[0m\n\u001b[1;32m   1132\u001b[0m         \u001b[0mfull_backward_hooks\u001b[0m\u001b[0;34m,\u001b[0m \u001b[0mnon_full_backward_hooks\u001b[0m \u001b[0;34m=\u001b[0m \u001b[0;34m[\u001b[0m\u001b[0;34m]\u001b[0m\u001b[0;34m,\u001b[0m \u001b[0;34m[\u001b[0m\u001b[0;34m]\u001b[0m\u001b[0;34m\u001b[0m\u001b[0;34m\u001b[0m\u001b[0m\n",
      "\u001b[0;32m~/miniconda3/lib/python3.9/site-packages/torch/nn/modules/linear.py\u001b[0m in \u001b[0;36mforward\u001b[0;34m(self, input)\u001b[0m\n\u001b[1;32m    112\u001b[0m \u001b[0;34m\u001b[0m\u001b[0m\n\u001b[1;32m    113\u001b[0m     \u001b[0;32mdef\u001b[0m \u001b[0mforward\u001b[0m\u001b[0;34m(\u001b[0m\u001b[0mself\u001b[0m\u001b[0;34m,\u001b[0m \u001b[0minput\u001b[0m\u001b[0;34m:\u001b[0m \u001b[0mTensor\u001b[0m\u001b[0;34m)\u001b[0m \u001b[0;34m->\u001b[0m \u001b[0mTensor\u001b[0m\u001b[0;34m:\u001b[0m\u001b[0;34m\u001b[0m\u001b[0;34m\u001b[0m\u001b[0m\n\u001b[0;32m--> 114\u001b[0;31m         \u001b[0;32mreturn\u001b[0m \u001b[0mF\u001b[0m\u001b[0;34m.\u001b[0m\u001b[0mlinear\u001b[0m\u001b[0;34m(\u001b[0m\u001b[0minput\u001b[0m\u001b[0;34m,\u001b[0m \u001b[0mself\u001b[0m\u001b[0;34m.\u001b[0m\u001b[0mweight\u001b[0m\u001b[0;34m,\u001b[0m \u001b[0mself\u001b[0m\u001b[0;34m.\u001b[0m\u001b[0mbias\u001b[0m\u001b[0;34m)\u001b[0m\u001b[0;34m\u001b[0m\u001b[0;34m\u001b[0m\u001b[0m\n\u001b[0m\u001b[1;32m    115\u001b[0m \u001b[0;34m\u001b[0m\u001b[0m\n\u001b[1;32m    116\u001b[0m     \u001b[0;32mdef\u001b[0m \u001b[0mextra_repr\u001b[0m\u001b[0;34m(\u001b[0m\u001b[0mself\u001b[0m\u001b[0;34m)\u001b[0m \u001b[0;34m->\u001b[0m \u001b[0mstr\u001b[0m\u001b[0;34m:\u001b[0m\u001b[0;34m\u001b[0m\u001b[0;34m\u001b[0m\u001b[0m\n",
      "\u001b[0;31mKeyboardInterrupt\u001b[0m: "
     ]
    }
   ],
   "source": [
    "from scipy.spatial import cKDTree as KDTree\n",
    "\n",
    "scale = np.array([x[1] - x[0], y[1] - y[0], z[1] - z[0]])\n",
    "offset = np.array([x[0], y[0], z[0]])\n",
    "\n",
    "symmetric_chamfers = []\n",
    "\n",
    "\n",
    "# load denoised vertices to be compared\n",
    "diffusion_model_dt = '09272022_165500'\n",
    "diffusion_model_idx = 8200\n",
    "ref_shape_idx = 94\n",
    "denoising_dt = '09302022_082805' # saving_dt\n",
    "\n",
    "data  = np.load(f'./denoising results/model:{diffusion_model_dt}_{diffusion_model_idx},shape:{ref_shape_idx}/{denoising_dt}.npz')\n",
    "denoised_verts = data['verts']\n",
    "denoised_verts = denoised_verts*scale + offset\n",
    "\n",
    "\n",
    "# load vertices for shapes reconstructed using the decoder model and original shape codes\n",
    "# if vertices files do not exist, compute vertices for shapes reconstructed using the decoder model and original shape codes\n",
    "\n",
    "decoder_dt = '09152022_190445'\n",
    "if not os.path.isdir(f'./models/{decoder_dt}/reconstructed'):\n",
    "    os.mkdir(f'./models/{decoder_dt}/reconstructed')\n",
    "    print(f'created directory: ./models/{decoder_dt}/reconstructed')\n",
    "\n",
    "decoder, _ = get_decoder(decoder_dt) \n",
    "shapecode, _, shape_indices = get_shapecode(decoder_dt, n_shapes=6778) # specify shapecode_epoch, shape_indices, n_shapes, random_or_not if needed\n",
    "\n",
    "std = np.std(np.asarray(shapecode))\n",
    "mean = np.mean(np.asarray(shapecode))\n",
    "shapecode = (shapecode-mean)/std\n",
    "\n",
    "    \n",
    "for idx in range(len(shapecode)): # note that this idx != shape_indices[idx]\n",
    "    \n",
    "    if not os.path.exists(f'./models/{decoder_dt}/reconstructed/{shape_indices[idx]}'):\n",
    "        original_code=std*shapecode[idx]+mean\n",
    "\n",
    "        sdfs = []\n",
    "        for points in P:\n",
    "            points = points.view(-1, 3)\n",
    "            sdfs.append(decoder(torch.cat((points,  original_code.repeat(points.shape[0], 1)), dim=1)).detach().numpy())\n",
    "        sdfs = np.concatenate(sdfs, axis=0)\n",
    "        sdfs = np.resize(sdfs,  (len(x), len(y), len(z))) \n",
    "        verts, faces, _, _ = measure.marching_cubes(sdfs, 0)\n",
    "        verts = verts*scale + offset\n",
    "        \n",
    "        np.savez(f'./models/{decoder_dt}/reconstructed/{shape_indices[idx]}', verts=verts, faces=faces)\n",
    "    else:\n",
    "        data = np.load(f'./models/{decoder_dt}/reconstructed/{shape_indices[idx]}')\n",
    "        verts = data['verts']\n",
    "\n",
    "    symmetric_chamfer = compute_symmetric_chamfer_distance(denoised_verts, verts)\n",
    "    print(f'{shape_indices[idx]}: {symmetric_chamfer}')\n",
    "    symmetric_chamfers.append(symmetric_chamfer)\n",
    "    \n",
    "    if (idx%10 == 0) or (idx == len(shapecode)-1):\n",
    "        np.savez(f'./denoising results/model:{diffusion_model_dt}_{diffusion_model_idx},shape:{ref_shape_idx}/{denoising_dt}_chamfer', symmetric_chamfers=np.array(symmetric_chamfers))"
   ]
  },
  {
   "cell_type": "code",
   "execution_count": 104,
   "id": "ee599bea-0f01-42b4-9d0a-808a9d995be2",
   "metadata": {},
   "outputs": [
    {
     "name": "stdout",
     "output_type": "stream",
     "text": [
      "3317 0.01787335579616698\n",
      "331 0.021309713795765704\n",
      "2121 0.024491355441123026\n",
      "6209 0.02883628414720759\n",
      "2484 0.034361564556328175\n",
      "3155 0.03548387802587052\n",
      "3445 0.0387960786590546\n",
      "3980 0.05195236335998118\n",
      "3904 0.07061771776579168\n",
      "4188 0.07527068074778859\n"
     ]
    }
   ],
   "source": [
    "data = np.load('./denoising results/model:09272022_165500_8200,shape:94/09302022_082805_chamfer.npz')\n",
    "sym_chamf = data['symmetric_chamfers']\n",
    "for idx in (sym_chamf).argsort()[:10]:\n",
    "    print(shape_indices[idx], sym_chamf[idx])"
   ]
  },
  {
   "cell_type": "code",
   "execution_count": 105,
   "id": "1f955d43-7c1d-488e-840c-74d7d603b790",
   "metadata": {},
   "outputs": [
    {
     "ename": "ValueError",
     "evalue": "Surface level must be within volume data range.",
     "output_type": "error",
     "traceback": [
      "\u001b[0;31m---------------------------------------------------------------------------\u001b[0m",
      "\u001b[0;31mValueError\u001b[0m                                Traceback (most recent call last)",
      "\u001b[0;32m/tmp/ipykernel_18328/920968615.py\u001b[0m in \u001b[0;36m<module>\u001b[0;34m\u001b[0m\n\u001b[1;32m      2\u001b[0m \u001b[0;34m\u001b[0m\u001b[0m\n\u001b[1;32m      3\u001b[0m \u001b[0;32mfor\u001b[0m \u001b[0midx\u001b[0m \u001b[0;32min\u001b[0m \u001b[0;34m(\u001b[0m\u001b[0msym_chamf\u001b[0m\u001b[0;34m)\u001b[0m\u001b[0;34m.\u001b[0m\u001b[0margsort\u001b[0m\u001b[0;34m(\u001b[0m\u001b[0;34m)\u001b[0m\u001b[0;34m[\u001b[0m\u001b[0;34m:\u001b[0m\u001b[0;36m20\u001b[0m\u001b[0;34m]\u001b[0m\u001b[0;34m:\u001b[0m\u001b[0;34m\u001b[0m\u001b[0;34m\u001b[0m\u001b[0m\n\u001b[0;32m----> 4\u001b[0;31m     \u001b[0mverts\u001b[0m\u001b[0;34m,\u001b[0m \u001b[0mfaces\u001b[0m \u001b[0;34m=\u001b[0m \u001b[0mreconstruct_shapes\u001b[0m\u001b[0;34m(\u001b[0m\u001b[0mdecoder\u001b[0m\u001b[0;34m,\u001b[0m \u001b[0mshapecode\u001b[0m\u001b[0;34m[\u001b[0m\u001b[0mshape_indices\u001b[0m\u001b[0;34m[\u001b[0m\u001b[0midx\u001b[0m\u001b[0;34m]\u001b[0m\u001b[0;34m]\u001b[0m\u001b[0;34m)\u001b[0m\u001b[0;34m\u001b[0m\u001b[0;34m\u001b[0m\u001b[0m\n\u001b[0m\u001b[1;32m      5\u001b[0m     \u001b[0mmp\u001b[0m\u001b[0;34m.\u001b[0m\u001b[0mplot\u001b[0m\u001b[0;34m(\u001b[0m\u001b[0mverts\u001b[0m\u001b[0;34m,\u001b[0m \u001b[0mfaces\u001b[0m\u001b[0;34m)\u001b[0m\u001b[0;34m\u001b[0m\u001b[0;34m\u001b[0m\u001b[0m\n",
      "\u001b[0;32m/tmp/ipykernel_18328/1964675994.py\u001b[0m in \u001b[0;36mreconstruct_shapes\u001b[0;34m(decoder, shapecode)\u001b[0m\n\u001b[1;32m      7\u001b[0m     \u001b[0msdfs\u001b[0m \u001b[0;34m=\u001b[0m \u001b[0mnp\u001b[0m\u001b[0;34m.\u001b[0m\u001b[0mconcatenate\u001b[0m\u001b[0;34m(\u001b[0m\u001b[0msdfs\u001b[0m\u001b[0;34m,\u001b[0m \u001b[0maxis\u001b[0m\u001b[0;34m=\u001b[0m\u001b[0;36m0\u001b[0m\u001b[0;34m)\u001b[0m\u001b[0;34m\u001b[0m\u001b[0;34m\u001b[0m\u001b[0m\n\u001b[1;32m      8\u001b[0m     \u001b[0msdfs\u001b[0m \u001b[0;34m=\u001b[0m \u001b[0mnp\u001b[0m\u001b[0;34m.\u001b[0m\u001b[0mresize\u001b[0m\u001b[0;34m(\u001b[0m\u001b[0msdfs\u001b[0m\u001b[0;34m,\u001b[0m \u001b[0;34m(\u001b[0m\u001b[0mlen\u001b[0m\u001b[0;34m(\u001b[0m\u001b[0mx\u001b[0m\u001b[0;34m)\u001b[0m\u001b[0;34m,\u001b[0m \u001b[0mlen\u001b[0m\u001b[0;34m(\u001b[0m\u001b[0my\u001b[0m\u001b[0;34m)\u001b[0m\u001b[0;34m,\u001b[0m \u001b[0mlen\u001b[0m\u001b[0;34m(\u001b[0m\u001b[0mz\u001b[0m\u001b[0;34m)\u001b[0m\u001b[0;34m)\u001b[0m\u001b[0;34m)\u001b[0m\u001b[0;34m\u001b[0m\u001b[0;34m\u001b[0m\u001b[0m\n\u001b[0;32m----> 9\u001b[0;31m     \u001b[0mverts\u001b[0m\u001b[0;34m,\u001b[0m \u001b[0mfaces\u001b[0m\u001b[0;34m,\u001b[0m \u001b[0mnormals\u001b[0m\u001b[0;34m,\u001b[0m \u001b[0mvalues\u001b[0m \u001b[0;34m=\u001b[0m \u001b[0mmeasure\u001b[0m\u001b[0;34m.\u001b[0m\u001b[0mmarching_cubes\u001b[0m\u001b[0;34m(\u001b[0m\u001b[0msdfs\u001b[0m\u001b[0;34m,\u001b[0m \u001b[0;36m0\u001b[0m\u001b[0;34m)\u001b[0m\u001b[0;34m\u001b[0m\u001b[0;34m\u001b[0m\u001b[0m\n\u001b[0m\u001b[1;32m     10\u001b[0m     \u001b[0;32mreturn\u001b[0m \u001b[0mverts\u001b[0m\u001b[0;34m,\u001b[0m \u001b[0mfaces\u001b[0m\u001b[0;34m\u001b[0m\u001b[0;34m\u001b[0m\u001b[0m\n",
      "\u001b[0;32m~/miniconda3/lib/python3.9/site-packages/skimage/measure/_marching_cubes_lewiner.py\u001b[0m in \u001b[0;36mmarching_cubes\u001b[0;34m(volume, level, spacing, gradient_direction, step_size, allow_degenerate, method, mask)\u001b[0m\n\u001b[1;32m    131\u001b[0m \u001b[0;34m\u001b[0m\u001b[0m\n\u001b[1;32m    132\u001b[0m     \u001b[0;32mif\u001b[0m \u001b[0mmethod\u001b[0m \u001b[0;34m==\u001b[0m \u001b[0;34m'lewiner'\u001b[0m\u001b[0;34m:\u001b[0m\u001b[0;34m\u001b[0m\u001b[0;34m\u001b[0m\u001b[0m\n\u001b[0;32m--> 133\u001b[0;31m         return _marching_cubes_lewiner(volume, level, spacing,\n\u001b[0m\u001b[1;32m    134\u001b[0m                                        \u001b[0mgradient_direction\u001b[0m\u001b[0;34m,\u001b[0m \u001b[0mstep_size\u001b[0m\u001b[0;34m,\u001b[0m\u001b[0;34m\u001b[0m\u001b[0;34m\u001b[0m\u001b[0m\n\u001b[1;32m    135\u001b[0m                                        \u001b[0mallow_degenerate\u001b[0m\u001b[0;34m,\u001b[0m \u001b[0muse_classic\u001b[0m\u001b[0;34m=\u001b[0m\u001b[0;32mFalse\u001b[0m\u001b[0;34m,\u001b[0m\u001b[0;34m\u001b[0m\u001b[0;34m\u001b[0m\u001b[0m\n",
      "\u001b[0;32m~/miniconda3/lib/python3.9/site-packages/skimage/measure/_marching_cubes_lewiner.py\u001b[0m in \u001b[0;36m_marching_cubes_lewiner\u001b[0;34m(volume, level, spacing, gradient_direction, step_size, allow_degenerate, use_classic, mask)\u001b[0m\n\u001b[1;32m    175\u001b[0m         \u001b[0mlevel\u001b[0m \u001b[0;34m=\u001b[0m \u001b[0mfloat\u001b[0m\u001b[0;34m(\u001b[0m\u001b[0mlevel\u001b[0m\u001b[0;34m)\u001b[0m\u001b[0;34m\u001b[0m\u001b[0;34m\u001b[0m\u001b[0m\n\u001b[1;32m    176\u001b[0m         \u001b[0;32mif\u001b[0m \u001b[0mlevel\u001b[0m \u001b[0;34m<\u001b[0m \u001b[0mvolume\u001b[0m\u001b[0;34m.\u001b[0m\u001b[0mmin\u001b[0m\u001b[0;34m(\u001b[0m\u001b[0;34m)\u001b[0m \u001b[0;32mor\u001b[0m \u001b[0mlevel\u001b[0m \u001b[0;34m>\u001b[0m \u001b[0mvolume\u001b[0m\u001b[0;34m.\u001b[0m\u001b[0mmax\u001b[0m\u001b[0;34m(\u001b[0m\u001b[0;34m)\u001b[0m\u001b[0;34m:\u001b[0m\u001b[0;34m\u001b[0m\u001b[0;34m\u001b[0m\u001b[0m\n\u001b[0;32m--> 177\u001b[0;31m             \u001b[0;32mraise\u001b[0m \u001b[0mValueError\u001b[0m\u001b[0;34m(\u001b[0m\u001b[0;34m\"Surface level must be within volume data range.\"\u001b[0m\u001b[0;34m)\u001b[0m\u001b[0;34m\u001b[0m\u001b[0;34m\u001b[0m\u001b[0m\n\u001b[0m\u001b[1;32m    178\u001b[0m     \u001b[0;31m# spacing\u001b[0m\u001b[0;34m\u001b[0m\u001b[0;34m\u001b[0m\u001b[0m\n\u001b[1;32m    179\u001b[0m     \u001b[0;32mif\u001b[0m \u001b[0mlen\u001b[0m\u001b[0;34m(\u001b[0m\u001b[0mspacing\u001b[0m\u001b[0;34m)\u001b[0m \u001b[0;34m!=\u001b[0m \u001b[0;36m3\u001b[0m\u001b[0;34m:\u001b[0m\u001b[0;34m\u001b[0m\u001b[0;34m\u001b[0m\u001b[0m\n",
      "\u001b[0;31mValueError\u001b[0m: Surface level must be within volume data range."
     ]
    }
   ],
   "source": [
    "decoder, _ = get_decoder(decoder_dt) \n",
    "\n",
    "for idx in (sym_chamf).argsort()[:20]:\n",
    "    verts, faces = reconstruct_shapes(decoder, shapecode[shape_indices[idx]])\n",
    "    mp.plot(verts, faces)"
   ]
  },
  {
   "cell_type": "markdown",
   "id": "a999e7ab-458a-44bf-8985-938585e70cbe",
   "metadata": {},
   "source": [
    "### Compare multiple denoising runs"
   ]
  },
  {
   "cell_type": "code",
   "execution_count": 85,
   "id": "95006e84-287b-485b-95c0-204e4275361f",
   "metadata": {},
   "outputs": [
    {
     "name": "stdout",
     "output_type": "stream",
     "text": [
      "94\n"
     ]
    },
    {
     "data": {
      "application/vnd.jupyter.widget-view+json": {
       "model_id": "6f34b6be877f4b53840ea4f02800ed58",
       "version_major": 2,
       "version_minor": 0
      },
      "text/plain": [
       "Renderer(camera=PerspectiveCamera(children=(DirectionalLight(color='white', intensity=0.6, position=(-0.002417…"
      ]
     },
     "metadata": {},
     "output_type": "display_data"
    },
    {
     "ename": "ValueError",
     "evalue": "Surface level must be within volume data range.",
     "output_type": "error",
     "traceback": [
      "\u001b[0;31m---------------------------------------------------------------------------\u001b[0m",
      "\u001b[0;31mValueError\u001b[0m                                Traceback (most recent call last)",
      "\u001b[0;32m/tmp/ipykernel_18328/4080596075.py\u001b[0m in \u001b[0;36m<module>\u001b[0;34m\u001b[0m\n\u001b[1;32m     10\u001b[0m \u001b[0;34m\u001b[0m\u001b[0m\n\u001b[1;32m     11\u001b[0m     \u001b[0;32mfor\u001b[0m \u001b[0mi\u001b[0m\u001b[0;34m,\u001b[0m \u001b[0midx\u001b[0m \u001b[0;32min\u001b[0m \u001b[0menumerate\u001b[0m\u001b[0;34m(\u001b[0m\u001b[0;34m(\u001b[0m\u001b[0;34m-\u001b[0m\u001b[0mcos_sim\u001b[0m\u001b[0;34m)\u001b[0m\u001b[0;34m.\u001b[0m\u001b[0margsort\u001b[0m\u001b[0;34m(\u001b[0m\u001b[0;34m)\u001b[0m\u001b[0;34m[\u001b[0m\u001b[0;34m:\u001b[0m\u001b[0;36m2\u001b[0m\u001b[0;34m]\u001b[0m\u001b[0;34m)\u001b[0m\u001b[0;34m:\u001b[0m\u001b[0;34m\u001b[0m\u001b[0;34m\u001b[0m\u001b[0m\n\u001b[0;32m---> 12\u001b[0;31m         \u001b[0mverts\u001b[0m\u001b[0;34m,\u001b[0m \u001b[0mfaces\u001b[0m \u001b[0;34m=\u001b[0m \u001b[0mreconstruct_shapes\u001b[0m\u001b[0;34m(\u001b[0m\u001b[0mdecoder\u001b[0m\u001b[0;34m,\u001b[0m \u001b[0mshapecode\u001b[0m\u001b[0;34m[\u001b[0m\u001b[0mshape_indices\u001b[0m\u001b[0;34m[\u001b[0m\u001b[0midx\u001b[0m\u001b[0;34m]\u001b[0m\u001b[0;34m]\u001b[0m\u001b[0;34m)\u001b[0m\u001b[0;34m\u001b[0m\u001b[0;34m\u001b[0m\u001b[0m\n\u001b[0m\u001b[1;32m     13\u001b[0m         \u001b[0;31m# print(f'shape most similar (cosine similarity)')\u001b[0m\u001b[0;34m\u001b[0m\u001b[0;34m\u001b[0m\u001b[0m\n\u001b[1;32m     14\u001b[0m         \u001b[0mp\u001b[0m\u001b[0;34m.\u001b[0m\u001b[0madd_mesh\u001b[0m\u001b[0;34m(\u001b[0m\u001b[0mverts\u001b[0m\u001b[0;34m*\u001b[0m\u001b[0mscale\u001b[0m\u001b[0;34m+\u001b[0m\u001b[0moffset\u001b[0m\u001b[0;34m+\u001b[0m \u001b[0mnp\u001b[0m\u001b[0;34m.\u001b[0m\u001b[0mtile\u001b[0m\u001b[0;34m(\u001b[0m\u001b[0;34m[\u001b[0m\u001b[0;36m0\u001b[0m\u001b[0;34m,\u001b[0m \u001b[0;36m0\u001b[0m\u001b[0;34m,\u001b[0m \u001b[0mi\u001b[0m\u001b[0;34m*\u001b[0m\u001b[0;36m2\u001b[0m\u001b[0;34m+\u001b[0m\u001b[0;36m2\u001b[0m\u001b[0;34m]\u001b[0m\u001b[0;34m,\u001b[0m\u001b[0;34m(\u001b[0m\u001b[0mlen\u001b[0m\u001b[0;34m(\u001b[0m\u001b[0mverts\u001b[0m\u001b[0;34m)\u001b[0m\u001b[0;34m,\u001b[0m\u001b[0;36m1\u001b[0m\u001b[0;34m)\u001b[0m\u001b[0;34m)\u001b[0m\u001b[0;34m,\u001b[0m \u001b[0mfaces\u001b[0m\u001b[0;34m)\u001b[0m \u001b[0;31m#TODO: needs sacling\u001b[0m\u001b[0;34m\u001b[0m\u001b[0;34m\u001b[0m\u001b[0m\n",
      "\u001b[0;32m/tmp/ipykernel_18328/1964675994.py\u001b[0m in \u001b[0;36mreconstruct_shapes\u001b[0;34m(decoder, shapecode)\u001b[0m\n\u001b[1;32m      7\u001b[0m     \u001b[0msdfs\u001b[0m \u001b[0;34m=\u001b[0m \u001b[0mnp\u001b[0m\u001b[0;34m.\u001b[0m\u001b[0mconcatenate\u001b[0m\u001b[0;34m(\u001b[0m\u001b[0msdfs\u001b[0m\u001b[0;34m,\u001b[0m \u001b[0maxis\u001b[0m\u001b[0;34m=\u001b[0m\u001b[0;36m0\u001b[0m\u001b[0;34m)\u001b[0m\u001b[0;34m\u001b[0m\u001b[0;34m\u001b[0m\u001b[0m\n\u001b[1;32m      8\u001b[0m     \u001b[0msdfs\u001b[0m \u001b[0;34m=\u001b[0m \u001b[0mnp\u001b[0m\u001b[0;34m.\u001b[0m\u001b[0mresize\u001b[0m\u001b[0;34m(\u001b[0m\u001b[0msdfs\u001b[0m\u001b[0;34m,\u001b[0m \u001b[0;34m(\u001b[0m\u001b[0mlen\u001b[0m\u001b[0;34m(\u001b[0m\u001b[0mx\u001b[0m\u001b[0;34m)\u001b[0m\u001b[0;34m,\u001b[0m \u001b[0mlen\u001b[0m\u001b[0;34m(\u001b[0m\u001b[0my\u001b[0m\u001b[0;34m)\u001b[0m\u001b[0;34m,\u001b[0m \u001b[0mlen\u001b[0m\u001b[0;34m(\u001b[0m\u001b[0mz\u001b[0m\u001b[0;34m)\u001b[0m\u001b[0;34m)\u001b[0m\u001b[0;34m)\u001b[0m\u001b[0;34m\u001b[0m\u001b[0;34m\u001b[0m\u001b[0m\n\u001b[0;32m----> 9\u001b[0;31m     \u001b[0mverts\u001b[0m\u001b[0;34m,\u001b[0m \u001b[0mfaces\u001b[0m\u001b[0;34m,\u001b[0m \u001b[0mnormals\u001b[0m\u001b[0;34m,\u001b[0m \u001b[0mvalues\u001b[0m \u001b[0;34m=\u001b[0m \u001b[0mmeasure\u001b[0m\u001b[0;34m.\u001b[0m\u001b[0mmarching_cubes\u001b[0m\u001b[0;34m(\u001b[0m\u001b[0msdfs\u001b[0m\u001b[0;34m,\u001b[0m \u001b[0;36m0\u001b[0m\u001b[0;34m)\u001b[0m\u001b[0;34m\u001b[0m\u001b[0;34m\u001b[0m\u001b[0m\n\u001b[0m\u001b[1;32m     10\u001b[0m     \u001b[0;32mreturn\u001b[0m \u001b[0mverts\u001b[0m\u001b[0;34m,\u001b[0m \u001b[0mfaces\u001b[0m\u001b[0;34m\u001b[0m\u001b[0;34m\u001b[0m\u001b[0m\n",
      "\u001b[0;32m~/miniconda3/lib/python3.9/site-packages/skimage/measure/_marching_cubes_lewiner.py\u001b[0m in \u001b[0;36mmarching_cubes\u001b[0;34m(volume, level, spacing, gradient_direction, step_size, allow_degenerate, method, mask)\u001b[0m\n\u001b[1;32m    131\u001b[0m \u001b[0;34m\u001b[0m\u001b[0m\n\u001b[1;32m    132\u001b[0m     \u001b[0;32mif\u001b[0m \u001b[0mmethod\u001b[0m \u001b[0;34m==\u001b[0m \u001b[0;34m'lewiner'\u001b[0m\u001b[0;34m:\u001b[0m\u001b[0;34m\u001b[0m\u001b[0;34m\u001b[0m\u001b[0m\n\u001b[0;32m--> 133\u001b[0;31m         return _marching_cubes_lewiner(volume, level, spacing,\n\u001b[0m\u001b[1;32m    134\u001b[0m                                        \u001b[0mgradient_direction\u001b[0m\u001b[0;34m,\u001b[0m \u001b[0mstep_size\u001b[0m\u001b[0;34m,\u001b[0m\u001b[0;34m\u001b[0m\u001b[0;34m\u001b[0m\u001b[0m\n\u001b[1;32m    135\u001b[0m                                        \u001b[0mallow_degenerate\u001b[0m\u001b[0;34m,\u001b[0m \u001b[0muse_classic\u001b[0m\u001b[0;34m=\u001b[0m\u001b[0;32mFalse\u001b[0m\u001b[0;34m,\u001b[0m\u001b[0;34m\u001b[0m\u001b[0;34m\u001b[0m\u001b[0m\n",
      "\u001b[0;32m~/miniconda3/lib/python3.9/site-packages/skimage/measure/_marching_cubes_lewiner.py\u001b[0m in \u001b[0;36m_marching_cubes_lewiner\u001b[0;34m(volume, level, spacing, gradient_direction, step_size, allow_degenerate, use_classic, mask)\u001b[0m\n\u001b[1;32m    175\u001b[0m         \u001b[0mlevel\u001b[0m \u001b[0;34m=\u001b[0m \u001b[0mfloat\u001b[0m\u001b[0;34m(\u001b[0m\u001b[0mlevel\u001b[0m\u001b[0;34m)\u001b[0m\u001b[0;34m\u001b[0m\u001b[0;34m\u001b[0m\u001b[0m\n\u001b[1;32m    176\u001b[0m         \u001b[0;32mif\u001b[0m \u001b[0mlevel\u001b[0m \u001b[0;34m<\u001b[0m \u001b[0mvolume\u001b[0m\u001b[0;34m.\u001b[0m\u001b[0mmin\u001b[0m\u001b[0;34m(\u001b[0m\u001b[0;34m)\u001b[0m \u001b[0;32mor\u001b[0m \u001b[0mlevel\u001b[0m \u001b[0;34m>\u001b[0m \u001b[0mvolume\u001b[0m\u001b[0;34m.\u001b[0m\u001b[0mmax\u001b[0m\u001b[0;34m(\u001b[0m\u001b[0;34m)\u001b[0m\u001b[0;34m:\u001b[0m\u001b[0;34m\u001b[0m\u001b[0;34m\u001b[0m\u001b[0m\n\u001b[0;32m--> 177\u001b[0;31m             \u001b[0;32mraise\u001b[0m \u001b[0mValueError\u001b[0m\u001b[0;34m(\u001b[0m\u001b[0;34m\"Surface level must be within volume data range.\"\u001b[0m\u001b[0;34m)\u001b[0m\u001b[0;34m\u001b[0m\u001b[0;34m\u001b[0m\u001b[0m\n\u001b[0m\u001b[1;32m    178\u001b[0m     \u001b[0;31m# spacing\u001b[0m\u001b[0;34m\u001b[0m\u001b[0;34m\u001b[0m\u001b[0m\n\u001b[1;32m    179\u001b[0m     \u001b[0;32mif\u001b[0m \u001b[0mlen\u001b[0m\u001b[0;34m(\u001b[0m\u001b[0mspacing\u001b[0m\u001b[0;34m)\u001b[0m \u001b[0;34m!=\u001b[0m \u001b[0;36m3\u001b[0m\u001b[0;34m:\u001b[0m\u001b[0;34m\u001b[0m\u001b[0;34m\u001b[0m\u001b[0m\n",
      "\u001b[0;31mValueError\u001b[0m: Surface level must be within volume data range."
     ]
    }
   ],
   "source": [
    "for _ in range(10):\n",
    "    denoising_dt = run_denoising()\n",
    "    data  = np.load(f'./denoising results/model:09272022_165500_8200,shape:94/{denoising_dt}.npz')\n",
    "    denoised_verts = data['verts']\n",
    "    denoised_faces = data['faces']\n",
    "    # print('denoised shape') \n",
    "    p = mp.plot(denoised_verts*scale+offset, denoised_faces)\n",
    "    cos_sim = compute_cosine_similarity(denoising_dt)\n",
    "    cos_sim = np.array(cos_sim)\n",
    "\n",
    "    for i, idx in enumerate((-cos_sim).argsort()[:2]):\n",
    "        verts, faces = reconstruct_shapes(decoder, shapecode[shape_indices[idx]])\n",
    "        # print(f'shape most similar (cosine similarity)')\n",
    "        p.add_mesh(verts*scale+offset+ np.tile([0, 0, i*2+2],(len(verts),1)), faces) #TODO: needs sacling\n",
    "\n",
    "    p"
   ]
  },
  {
   "cell_type": "markdown",
   "id": "f0da323e-d01f-421e-8e48-2b36b4420f53",
   "metadata": {},
   "source": [
    "### Plot original shapes"
   ]
  },
  {
   "cell_type": "code",
   "execution_count": null,
   "id": "29b77625-96ed-417a-bf45-758c04923564",
   "metadata": {},
   "outputs": [],
   "source": [
    "for shape_idx in range(len(shapecode)):\n",
    "\n",
    "    original_code=std*shapecode[shape_idx]+mean\n",
    "\n",
    "    sdfs = []\n",
    "    for points in P:\n",
    "        points = points.view(-1, 3)\n",
    "        sdfs.append(decoder(torch.cat((points,  original_code.repeat(points.shape[0], 1)), dim=1)).detach().numpy())\n",
    "    sdfs = np.concatenate(sdfs, axis=0)\n",
    "    sdfs = np.resize(sdfs, (len(x), len(y), len(z))) \n",
    "    verts, faces, normals, values = measure.marching_cubes(sdfs, 0)\n",
    "    mp.plot(verts, faces)\n"
   ]
  },
  {
   "cell_type": "code",
   "execution_count": null,
   "id": "7e709682-37d3-4158-95f9-53d6bb7a7b98",
   "metadata": {},
   "outputs": [],
   "source": []
  }
 ],
 "metadata": {
  "kernelspec": {
   "display_name": "Python 3 (ipykernel)",
   "language": "python",
   "name": "python3"
  },
  "language_info": {
   "codemirror_mode": {
    "name": "ipython",
    "version": 3
   },
   "file_extension": ".py",
   "mimetype": "text/x-python",
   "name": "python",
   "nbconvert_exporter": "python",
   "pygments_lexer": "ipython3",
   "version": "3.9.12"
  }
 },
 "nbformat": 4,
 "nbformat_minor": 5
}
