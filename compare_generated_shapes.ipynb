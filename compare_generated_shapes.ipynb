{
 "cells": [
  {
   "cell_type": "code",
   "execution_count": 1,
   "id": "6f334d14-80b3-4f88-af19-39c815212299",
   "metadata": {},
   "outputs": [],
   "source": [
    "import meshplot as mp\n",
    "import numpy as np\n"
   ]
  },
  {
   "cell_type": "code",
   "execution_count": 2,
   "id": "8437657a-864d-424c-88ec-7c6c508441d3",
   "metadata": {},
   "outputs": [
    {
     "name": "stdout",
     "output_type": "stream",
     "text": [
      "11062022_220507\n"
     ]
    },
    {
     "data": {
      "application/vnd.jupyter.widget-view+json": {
       "model_id": "cfd2ddeb35634efc87cc8b764182482a",
       "version_major": 2,
       "version_minor": 0
      },
      "text/plain": [
       "Renderer(camera=PerspectiveCamera(children=(DirectionalLight(color='white', intensity=0.6, position=(-0.010153…"
      ]
     },
     "metadata": {},
     "output_type": "display_data"
    },
    {
     "name": "stdout",
     "output_type": "stream",
     "text": [
      "11062022_220527\n"
     ]
    },
    {
     "data": {
      "application/vnd.jupyter.widget-view+json": {
       "model_id": "3b63150ff4b04334994e187568fb7dad",
       "version_major": 2,
       "version_minor": 0
      },
      "text/plain": [
       "Renderer(camera=PerspectiveCamera(children=(DirectionalLight(color='white', intensity=0.6, position=(-6.502866…"
      ]
     },
     "metadata": {},
     "output_type": "display_data"
    },
    {
     "name": "stdout",
     "output_type": "stream",
     "text": [
      "11062022_220547\n"
     ]
    },
    {
     "data": {
      "application/vnd.jupyter.widget-view+json": {
       "model_id": "5afb9f2934ca4aa894d69b9e0a4f3fe5",
       "version_major": 2,
       "version_minor": 0
      },
      "text/plain": [
       "Renderer(camera=PerspectiveCamera(children=(DirectionalLight(color='white', intensity=0.6, position=(-0.007737…"
      ]
     },
     "metadata": {},
     "output_type": "display_data"
    },
    {
     "name": "stdout",
     "output_type": "stream",
     "text": [
      "11062022_220611\n"
     ]
    },
    {
     "data": {
      "application/vnd.jupyter.widget-view+json": {
       "model_id": "b01a121595444e5998c6f60fdaa6ee1e",
       "version_major": 2,
       "version_minor": 0
      },
      "text/plain": [
       "Renderer(camera=PerspectiveCamera(children=(DirectionalLight(color='white', intensity=0.6, position=(-0.011249…"
      ]
     },
     "metadata": {},
     "output_type": "display_data"
    },
    {
     "name": "stdout",
     "output_type": "stream",
     "text": [
      "11062022_221055\n"
     ]
    },
    {
     "data": {
      "application/vnd.jupyter.widget-view+json": {
       "model_id": "451c2cdb50554a5ca10ef188299c302a",
       "version_major": 2,
       "version_minor": 0
      },
      "text/plain": [
       "Renderer(camera=PerspectiveCamera(children=(DirectionalLight(color='white', intensity=0.6, position=(-0.010382…"
      ]
     },
     "metadata": {},
     "output_type": "display_data"
    },
    {
     "name": "stdout",
     "output_type": "stream",
     "text": [
      "11062022_222047\n"
     ]
    },
    {
     "data": {
      "application/vnd.jupyter.widget-view+json": {
       "model_id": "4e085e40768b45528a13fae047ee23c7",
       "version_major": 2,
       "version_minor": 0
      },
      "text/plain": [
       "Renderer(camera=PerspectiveCamera(children=(DirectionalLight(color='white', intensity=0.6, position=(-0.010445…"
      ]
     },
     "metadata": {},
     "output_type": "display_data"
    }
   ],
   "source": [
    "import meshplot as mp\n",
    "import numpy as np\n",
    "\n",
    "\n",
    "hyperparameter_search_dts = ['11062022_220507', \n",
    "                              '11062022_220527', \n",
    "                              '11062022_220547', \n",
    "                              '11062022_220611', \n",
    "                              '11062022_221055',\n",
    "                              '11062022_222047']\n",
    "\n",
    "for dt in hyperparameter_search_dts:\n",
    "    print(dt)\n",
    "    shape = np.load(f'./diffusion logs & models/{dt}/generated shapes-{dt}-2500/4.npz')\n",
    "    p = mp.plot(shape['verts'], shape['faces'])\n",
    "    shape = np.load(f'./diffusion logs & models/{dt}/generated shapes-{dt}-2500/5.npz')\n",
    "    p.add_mesh(shape['verts'] + np.array([2 , 0, 0]), shape['faces'])\n",
    "    shape = np.load(f'./diffusion logs & models/{dt}/generated shapes-{dt}-2500/6.npz')\n",
    "    p.add_mesh(shape['verts'] + np.array([4 , 0, 0]), shape['faces'])\n",
    "    shape = np.load(f'./diffusion logs & models/{dt}/generated shapes-{dt}-2500/7.npz')\n",
    "    p.add_mesh(shape['verts'] + np.array([6 , 0, 0]), shape['faces'])\n",
    "    p\n"
   ]
  },
  {
   "cell_type": "code",
   "execution_count": 5,
   "id": "5385d964-9d23-43b7-a5e2-c10016e2ab52",
   "metadata": {},
   "outputs": [
    {
     "name": "stdout",
     "output_type": "stream",
     "text": [
      "11022022_030925 13000\n"
     ]
    },
    {
     "data": {
      "application/vnd.jupyter.widget-view+json": {
       "model_id": "03e0760ffa71416092682bb4f0d72676",
       "version_major": 2,
       "version_minor": 0
      },
      "text/plain": [
       "Renderer(camera=PerspectiveCamera(children=(DirectionalLight(color='white', intensity=0.6, position=(-0.011622…"
      ]
     },
     "metadata": {},
     "output_type": "display_data"
    },
    {
     "name": "stdout",
     "output_type": "stream",
     "text": [
      "11082022_135018 8000\n"
     ]
    },
    {
     "data": {
      "application/vnd.jupyter.widget-view+json": {
       "model_id": "5666c165c55d4ef0a08ce9b769331f6f",
       "version_major": 2,
       "version_minor": 0
      },
      "text/plain": [
       "Renderer(camera=PerspectiveCamera(children=(DirectionalLight(color='white', intensity=0.6, position=(-0.012152…"
      ]
     },
     "metadata": {},
     "output_type": "display_data"
    }
   ],
   "source": [
    "dts = ['11022022_030925', # deepsdf\n",
    "        '11082022_135018', #autodecoder\n",
    "        ]\n",
    "checkpoints = ['13000', \n",
    "             '8000'\n",
    "            ]\n",
    "\n",
    "ctr += 4\n",
    "\n",
    "for dt, checkpoint in zip(dts, checkpoints):\n",
    "    print(dt, checkpoint)\n",
    "    shape = np.load(f'./diffusion logs & models/{dt}/generated shapes-{dt}-{checkpoint}/{ctr}.npz')\n",
    "    p = mp.plot(shape['verts'], shape['faces'])\n",
    "    shape = np.load(f'./diffusion logs & models/{dt}/generated shapes-{dt}-{checkpoint}/{ctr+1}.npz')\n",
    "    p.add_mesh(shape['verts'] + np.array([2 , 0, 0]), shape['faces'])\n",
    "    shape = np.load(f'./diffusion logs & models/{dt}/generated shapes-{dt}-{checkpoint}/{ctr+2}.npz')\n",
    "    p.add_mesh(shape['verts'] + np.array([4 , 0, 0]), shape['faces'])\n",
    "    shape = np.load(f'./diffusion logs & models/{dt}/generated shapes-{dt}-{checkpoint}/{ctr+3}.npz')\n",
    "    p.add_mesh(shape['verts'] + np.array([6 , 0, 0]), shape['faces'])\n",
    "    p"
   ]
  },
  {
   "cell_type": "code",
   "execution_count": 4,
   "id": "48a70b22-55be-4155-bfce-b62cde7f0f72",
   "metadata": {},
   "outputs": [],
   "source": [
    "ctr = 8"
   ]
  },
  {
   "cell_type": "code",
   "execution_count": 8,
   "id": "dafae0de-4ebe-49f4-96c5-2cb21177af11",
   "metadata": {},
   "outputs": [
    {
     "data": {
      "application/vnd.jupyter.widget-view+json": {
       "model_id": "c7dc19b105b440be87aacc053b22ccd2",
       "version_major": 2,
       "version_minor": 0
      },
      "text/plain": [
       "Renderer(camera=PerspectiveCamera(children=(DirectionalLight(color='white', intensity=0.6, position=(0.0, 0.00…"
      ]
     },
     "metadata": {},
     "output_type": "display_data"
    },
    {
     "ename": "NameError",
     "evalue": "name 'export' is not defined",
     "output_type": "error",
     "traceback": [
      "\u001b[0;31m---------------------------------------------------------------------------\u001b[0m",
      "\u001b[0;31mNameError\u001b[0m                                 Traceback (most recent call last)",
      "\u001b[0;32m/tmp/ipykernel_3024/3308092820.py\u001b[0m in \u001b[0;36m<module>\u001b[0;34m\u001b[0m\n\u001b[1;32m      1\u001b[0m \u001b[0mshape\u001b[0m \u001b[0;34m=\u001b[0m \u001b[0mnp\u001b[0m\u001b[0;34m.\u001b[0m\u001b[0mload\u001b[0m\u001b[0;34m(\u001b[0m\u001b[0;34m'./generated_gaussian_deepsdf(planes)/0.npz'\u001b[0m\u001b[0;34m)\u001b[0m\u001b[0;34m\u001b[0m\u001b[0;34m\u001b[0m\u001b[0m\n\u001b[1;32m      2\u001b[0m \u001b[0mp\u001b[0m \u001b[0;34m=\u001b[0m \u001b[0mmp\u001b[0m\u001b[0;34m.\u001b[0m\u001b[0mplot\u001b[0m\u001b[0;34m(\u001b[0m\u001b[0mshape\u001b[0m\u001b[0;34m[\u001b[0m\u001b[0;34m'verts'\u001b[0m\u001b[0;34m]\u001b[0m\u001b[0;34m,\u001b[0m \u001b[0mshape\u001b[0m\u001b[0;34m[\u001b[0m\u001b[0;34m'faces'\u001b[0m\u001b[0;34m]\u001b[0m\u001b[0;34m)\u001b[0m\u001b[0;34m\u001b[0m\u001b[0;34m\u001b[0m\u001b[0m\n\u001b[0;32m----> 3\u001b[0;31m \u001b[0mexport\u001b[0m\u001b[0;34m(\u001b[0m\u001b[0mp\u001b[0m\u001b[0;34m,\u001b[0m \u001b[0;34m'obj'\u001b[0m\u001b[0;34m)\u001b[0m\u001b[0;34m\u001b[0m\u001b[0;34m\u001b[0m\u001b[0m\n\u001b[0m",
      "\u001b[0;31mNameError\u001b[0m: name 'export' is not defined"
     ]
    }
   ],
   "source": [
    "shape = np.load('./generated_gaussian_deepsdf(planes)/0.npz')\n",
    "p = mp.plot(shape['verts'], shape['faces'])\n"
   ]
  },
  {
   "cell_type": "code",
   "execution_count": null,
   "id": "212affb5-d7ac-47a7-b8eb-bc9d96fb68ef",
   "metadata": {},
   "outputs": [],
   "source": []
  }
 ],
 "metadata": {
  "kernelspec": {
   "display_name": "Python 3 (ipykernel)",
   "language": "python",
   "name": "python3"
  },
  "language_info": {
   "codemirror_mode": {
    "name": "ipython",
    "version": 3
   },
   "file_extension": ".py",
   "mimetype": "text/x-python",
   "name": "python",
   "nbconvert_exporter": "python",
   "pygments_lexer": "ipython3",
   "version": "3.9.12"
  }
 },
 "nbformat": 4,
 "nbformat_minor": 5
}
