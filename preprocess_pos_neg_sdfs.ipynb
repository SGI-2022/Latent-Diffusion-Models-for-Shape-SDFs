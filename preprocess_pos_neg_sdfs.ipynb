{
 "cells": [
  {
   "cell_type": "code",
   "execution_count": 32,
   "id": "686f23f1-24e8-456a-b252-d6798814db2c",
   "metadata": {},
   "outputs": [
    {
     "name": "stdout",
     "output_type": "stream",
     "text": [
      "processed: 6778 files\n"
     ]
    }
   ],
   "source": [
    "import os\n",
    "import numpy as np\n",
    "\n",
    "# path example: latent_diffusion/data/03001627_sdfs/1006be65e7bc937e9141f9b58470d646/sdf_samples.npz\n",
    "\n",
    "\n",
    "main_dir = '../data/03001627_sdfs/'\n",
    "\n",
    "ctr = 0\n",
    "for sub_dir in os.scandir(main_dir):\n",
    "    if sub_dir.is_dir():\n",
    "        for file in os.listdir(main_dir + sub_dir.name):\n",
    "            if file.endswith(\"sdf_samples.npz\"):\n",
    "                file_path = os.path.join(main_dir, sub_dir.name, file)\n",
    "                xyz_sdf = np.load(file_path)\n",
    "                \n",
    "                neg_xyz = []\n",
    "                neg_sdf = []\n",
    "                pos_xyz = []\n",
    "                pos_sdf = []\n",
    "                \n",
    "                # iterate over the original npz file\n",
    "                for this_xyz, this_sdf in zip(xyz_sdf['points'], xyz_sdf['sdf']):\n",
    "                    if this_sdf < 0:\n",
    "                        neg_xyz.append(this_xyz)\n",
    "                        neg_sdf.append(this_sdf)\n",
    "                    else:\n",
    "                        pos_xyz.append(this_xyz)\n",
    "                        pos_sdf.append(this_sdf)\n",
    "                \n",
    "                # double check\n",
    "                for this_neg_sdf in neg_sdf:\n",
    "                    assert this_neg_sdf < 0\n",
    "                for this_pos_sdf in pos_sdf:\n",
    "                    assert this_pos_sdf >= 0\n",
    "                    \n",
    "                # convert to np arrays\n",
    "                pos_xyz = np.stack(pos_xyz)\n",
    "                pos_sdf = np.array(pos_sdf)\n",
    "                neg_xyz = np.stack(neg_xyz)\n",
    "                neg_sdf = np.array(neg_sdf)\n",
    "                \n",
    "                # save into 2 separate files\n",
    "                np.savez(os.path.join(main_dir, sub_dir.name, \"neg_sdf_samples.npz\"), points=neg_xyz, sdf=neg_sdf)\n",
    "                np.savez(os.path.join(main_dir, sub_dir.name, \"pos_sdf_samples.npz\"), points=pos_xyz, sdf=pos_sdf)\n",
    "\n",
    "                ctr += 1\n",
    "\n",
    "print(f'processed: {ctr} files')"
   ]
  }
 ],
 "metadata": {
  "kernelspec": {
   "display_name": "Python 3 (ipykernel)",
   "language": "python",
   "name": "python3"
  },
  "language_info": {
   "codemirror_mode": {
    "name": "ipython",
    "version": 3
   },
   "file_extension": ".py",
   "mimetype": "text/x-python",
   "name": "python",
   "nbconvert_exporter": "python",
   "pygments_lexer": "ipython3",
   "version": "3.9.12"
  }
 },
 "nbformat": 4,
 "nbformat_minor": 5
}
